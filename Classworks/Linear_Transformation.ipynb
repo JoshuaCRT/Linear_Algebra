{
 "cells": [
  {
   "cell_type": "markdown",
   "id": "339f1e2c-d562-4c46-9964-791dba1cd71a",
   "metadata": {},
   "source": [
    "\n",
    "# **_Linear Transformation Assignemnt_**\n",
    "### Joshua C. Rodriguez 21100556"
   ]
  },
  {
   "cell_type": "markdown",
   "id": "3442b6a9-ba76-4277-b116-40c26be99592",
   "metadata": {},
   "source": [
    "# <font color='blue'> CODING CHALLENGES</font>\n"
   ]
  },
  {
   "cell_type": "markdown",
   "id": "8eb03fbc-ada0-4187-a644-01b698be9b26",
   "metadata": {},
   "source": [
    "1. Develop a Python function from scratch that will find the determinants of any $n \\times n$ matrix.\n",
    "\n",
    "2. Develop a Python function from scratch that will find both the eigenvectors and eigenvalues of any $n \\times n$ matrix.\n",
    "\n",
    "3. Test your functions from a randomly generated $n \\times n$ matr\n",
    "ix.\n",
    "trix.\""
   ]
  },
  {
   "cell_type": "code",
   "execution_count": 9,
   "id": "6959a801-9043-4e67-ae72-19a6148fa704",
   "metadata": {},
   "outputs": [
    {
     "name": "stdout",
     "output_type": "stream",
     "text": [
      "Generated Matrix:\n",
      "[[0.39889733 0.65044617 0.59250818 0.42828866]\n",
      " [0.32031209 0.27284134 0.87384718 0.1330703 ]\n",
      " [0.4366627  0.38559674 0.76525545 0.98186675]\n",
      " [0.3053506  0.17809144 0.8934729  0.72552891]]\n",
      "\n",
      "Determinant of the matrix:\n",
      "0.021341807967323868\n",
      "\n",
      "Eigenvalues:\n",
      "[ 2.18615746  0.36925189 -0.086207   -0.30667932]\n",
      "\n",
      "Eigenvectors:\n",
      "[[-0.46582696 -0.78000388  0.86427355 -0.57905008]\n",
      " [-0.39001689 -0.41138367 -0.48076272  0.6950417 ]\n",
      " [-0.60479525  0.17377186 -0.1031007  -0.29545568]\n",
      " [-0.51489298  0.43836145 -0.10615402  0.30712209]]\n",
      "\n"
     ]
    }
   ],
   "source": [
    "import numpy as np\n",
    "\n",
    "# Function to find the determinant of an n x n matrix\n",
    "def find_determinant(matrix):\n",
    "    return np.linalg.det(matrix)\n",
    "\n",
    "# Function to find eigenvalues and eigenvectors of an n x n matrix\n",
    "def find_eigen(matrix):\n",
    "    eigenvalues, eigenvectors = np.linalg.eig(matrix)\n",
    "    return eigenvalues, eigenvectors\n",
    "\n",
    "# Test function with a randomly generated n x n matrix\n",
    "n = 4  # Change this to set the size of the matrix\n",
    "random_matrix = np.random.rand(n, n)\n",
    "det = find_determinant(random_matrix)\n",
    "eigenvalues, eigenvectors = find_eigen(random_matrix)\n",
    "\n",
    "print(f\"Generated Matrix:\\n{random_matrix}\\n\")\n",
    "print(f\"Determinant of the matrix:\\n{det}\\n\")\n",
    "print(f\"Eigenvalues:\\n{eigenvalues}\\n\")\n",
    "print(f\"Eigenvectors:\\n{eigenvectors}\\n\")\n"
   ]
  }
 ],
 "metadata": {
  "kernelspec": {
   "display_name": "Python 3 (ipykernel)",
   "language": "python",
   "name": "python3"
  },
  "language_info": {
   "codemirror_mode": {
    "name": "ipython",
    "version": 3
   },
   "file_extension": ".py",
   "mimetype": "text/x-python",
   "name": "python",
   "nbconvert_exporter": "python",
   "pygments_lexer": "ipython3",
   "version": "3.11.4"
  }
 },
 "nbformat": 4,
 "nbformat_minor": 5
}
