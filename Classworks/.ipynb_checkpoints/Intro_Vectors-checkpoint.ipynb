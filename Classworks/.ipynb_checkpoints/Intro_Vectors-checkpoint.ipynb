{
 "cells": [
  {
   "cell_type": "markdown",
   "id": "2acacf1d",
   "metadata": {},
   "source": [
    "\n",
    "# **_Intro to Vectors Assignent_**\n",
    "### Joshua C. Rodriguez 21100556"
   ]
  },
  {
   "cell_type": "markdown",
   "metadata": {},
   "source": [
    "# <font color='blue'> CODING CHALLENGES</font>\n"
   ]
  },
  {
   "cell_type": "code",
   "execution_count": 5,
   "id": "64a6db23-907f-4cc4-bf83-4dc90ee8b790",
   "metadata": {},
   "outputs": [],
   "source": [
    "import numpy as np"
   ]
  },
  {
   "cell_type": "markdown",
   "id": "a054cc16-f0a8-4f39-8849-c4c8d33d00b8",
   "metadata": {},
   "source": [
    "1. Let $\\textbf{u} = (1, -2, 4)$ and $\\textbf{v} = (3,5,1)$ $\\textbf{w} = (2,1,-3)$ find:<br>\n",
    "<br>"
   ]
  },
  {
   "cell_type": "markdown",
   "id": "e264db00-f100-4170-8da9-a73c2908526a",
   "metadata": {},
   "source": [
    "a. $3\\textbf{u}-2\\textbf{v}$<br>\n",
    "<br>\n",
    "\\begin{align}\n",
    "    3\\textbf{u}-2\\textbf{v} &= 3\\begin{bmatrix}\n",
    "           1 \\\\\n",
    "           -2 \\\\\n",
    "           4\n",
    "         \\end{bmatrix} - 2 \\begin{bmatrix}\n",
    "           3 \\\\\n",
    "           5 \\\\\n",
    "           1\n",
    "         \\end{bmatrix}= \\begin{bmatrix}\n",
    "           3 \\\\\n",
    "           -6 \\\\\n",
    "           12\n",
    "         \\end{bmatrix} + \\begin{bmatrix}\n",
    "           -6 \\\\\n",
    "           -10 \\\\\n",
    "           -2\n",
    "         \\end{bmatrix} = \\begin{bmatrix}\n",
    "           -3 \\\\\n",
    "           -16 \\\\\n",
    "           10\n",
    "         \\end{bmatrix}\n",
    "  \\end{align}\n"
   ]
  },
  {
   "cell_type": "code",
   "execution_count": 11,
   "id": "f35c190a-dd07-4b59-bb4c-7e5918f00b26",
   "metadata": {},
   "outputs": [
    {
     "name": "stdout",
     "output_type": "stream",
     "text": [
      "3𝐮-2𝐯: [ -3 -16  10]\n"
     ]
    }
   ],
   "source": [
    "u = np.array([1, -2, 4]) \n",
    "v = np.array([3, 5, 1])\n",
    "print(\"3𝐮-2𝐯:\", (3*u) - (2*v))"
   ]
  },
  {
   "cell_type": "markdown",
   "id": "92d04a55-bd31-4a91-9ff2-c2f6c14d0fc9",
   "metadata": {},
   "source": [
    "<br><br>b.$5\\textbf{u}+3\\textbf{v}-4\\textbf{w}$<br>\n",
    "<br>\n",
    "\\begin{align}\n",
    " 5\\textbf{u}+3\\textbf{v}-4\\textbf{w} =  5\\begin{bmatrix}\n",
    "           1 \\\\\n",
    "           -2 \\\\\n",
    "           4\n",
    "         \\end{bmatrix} + 3\\begin{bmatrix}\n",
    "           3 \\\\\n",
    "           5 \\\\\n",
    "           1\n",
    "         \\end{bmatrix} - 4\\begin{bmatrix}\n",
    "           2 \\\\\n",
    "           1 \\\\\n",
    "           -3\n",
    "         \\end{bmatrix} = \\begin{bmatrix}\n",
    "           5 \\\\\n",
    "           -10 \\\\\n",
    "           20\n",
    "         \\end{bmatrix} + \\begin{bmatrix}\n",
    "           9 \\\\\n",
    "           15 \\\\\n",
    "           3\n",
    "         \\end{bmatrix} + \\begin{bmatrix}\n",
    "           -8 \\\\\n",
    "           -4 \\\\\n",
    "           12\n",
    "         \\end{bmatrix}= \\begin{bmatrix}\n",
    "           6 \\\\\n",
    "           1 \\\\\n",
    "           35\n",
    "         \\end{bmatrix}\n",
    "  \\end{align}"
   ]
  },
  {
   "cell_type": "code",
   "execution_count": 10,
   "id": "8331a780-cb63-4ac4-b9e8-30a49d33bef3",
   "metadata": {},
   "outputs": [
    {
     "name": "stdout",
     "output_type": "stream",
     "text": [
      "5𝐮+3𝐯-4w:  [ 6  1 35]\n"
     ]
    }
   ],
   "source": [
    "u = np.array([1, -2, 4]) \n",
    "v = np.array([3, 5, 1])\n",
    "w = np.array([2,1,-3])\n",
    "print(\"5𝐮+3𝐯-4w: \", (5*u) + (3*v) - (4*w)"
   ]
  },
  {
   "cell_type": "markdown",
   "id": "647a3b3c-4f2b-4af3-ac17-a2248ac41858",
   "metadata": {},
   "source": [
    "<br><br>c. $\\mathbf{u} \\cdot \\mathbf{v}$, $\\mathbf{v} \\cdot \\mathbf{w}$, $\\mathbf{u} \\cdot \\mathbf{w}$<br>\n",
    "\n",
    "\\begin{align}\n",
    "u \\cdot v &= \\begin{bmatrix}          \n",
    "           1 \\\\\n",
    "           -2 \\\\\n",
    "           4\n",
    "           \\end{bmatrix} \\cdot\n",
    "           \\begin{bmatrix}\n",
    "           3 \\\\\n",
    "           5 \\\\\n",
    "           1\n",
    "           \\end{bmatrix} \n",
    "&= (-3) \\\\\n",
    "v \\cdot w &=  \\begin{bmatrix}          \n",
    "           3 \\\\\n",
    "           5 \\\\\n",
    "           1\n",
    "           \\end{bmatrix} \\cdot\n",
    "           \\begin{bmatrix}\n",
    "           2 \\\\\n",
    "           1 \\\\\n",
    "           -3\n",
    "           \\end{bmatrix}\n",
    "&= 8 \\\\\n",
    "u \\cdot w &= \\begin{bmatrix}          \n",
    "           1 \\\\\n",
    "           -2 \\\\\n",
    "           4\n",
    "           \\end{bmatrix} \\cdot\n",
    "           \\begin{bmatrix}\n",
    "           2 \\\\\n",
    "           1 \\\\\n",
    "           -3\n",
    "           \\end{bmatrix} \n",
    "&= (-12)\n",
    "\\end{align}"
   ]
  },
  {
   "cell_type": "code",
   "execution_count": 10,
   "id": "b9bb46c8-8475-41ed-bca7-870e64e74220",
   "metadata": {},
   "outputs": [
    {
     "name": "stdout",
     "output_type": "stream",
     "text": [
      "u.v =  -3\n",
      "v.w =  8\n",
      "u.w =  -12\n"
     ]
    }
   ],
   "source": [
    "u = np.array([1, -2, 4]) \n",
    "v = np.array([3, 5, 1])\n",
    "w = np.array([2,1,-3])\n",
    "print(\"u.v = \", u.dot(v))\n",
    "print(\"v.w = \", v.dot(w))\n",
    "print(\"u.w = \", u.dot(w))"
   ]
  },
  {
   "cell_type": "markdown",
   "id": "00aeb793-8718-416f-9e7a-5051eb94b9d3",
   "metadata": {},
   "source": [
    "<br><br>d. ||$\\textbf{u}||, ||$\\textbf{v}||, ||$\\textbf{w}$||<br>\n",
    "\n",
    "\\begin{align}\n",
    " ||u|| = \\sqrt{1^2 + (-2)^2 + 4^2} = \\sqrt{21} \\\\\n",
    "      ||v|| = \\sqrt{3^2 + 5^2 + 1^2} = \\sqrt{35} \\\\\n",
    "      ||w|| = \\sqrt{2^2 + 1^2 + (-3)^2} = \\sqrt{14} \\\\\n",
    "       \\\\\n",
    "&= 7\n",
    "\\end{align}\n"
   ]
  },
  {
   "cell_type": "code",
   "execution_count": 11,
   "id": "939d482f-deb5-499e-8099-b75ce07a7677",
   "metadata": {},
   "outputs": [
    {
     "name": "stdout",
     "output_type": "stream",
     "text": [
      "||u||:  4.58257569495584\n",
      "||v||:  5.916079783099616\n",
      "||w||:  2.8284271247461903\n"
     ]
    }
   ],
   "source": [
    "u = np.array([1, -2, 4]) \n",
    "v = np.array([3, 5, 1])\n",
    "w = np.array([2,1,-3])\n",
    "print('||u||: ', np.sqrt(u.dot(u)))\n",
    "print('||v||: ', np.sqrt(v.dot(v)))\n",
    "print('||w||: ', np.sqrt(v.dot(w)))"
   ]
  },
  {
   "cell_type": "markdown",
   "id": "74fa0036-225c-4536-9103-8e08add5653d",
   "metadata": {},
   "source": [
    "<br> <br>e. If $\\theta$ is the angle between $\\textbf{u}$  and   $\\textbf{v}$, find $\\cos{\\theta}$.<br>\n",
    "\\begin{align}\n",
    "      = \\frac{1(3) - 2(5) + 4(1)}{\\sqrt{1^2 + (-2)^2 + 4^2}\\sqrt{3^2 + 5^2 + 1^2}}\n",
    "      = \\frac{-3}{\\sqrt{21}\\sqrt{35}}\n",
    "\\end{align}"
   ]
  },
  {
   "cell_type": "code",
   "execution_count": 8,
   "id": "9c4fb82c-2427-4aa8-ba3c-3bcc9e6fbf8a",
   "metadata": {},
   "outputs": [
    {
     "name": "stdout",
     "output_type": "stream",
     "text": [
      "angle: -0.11065666703449763\n"
     ]
    }
   ],
   "source": [
    "u = np.array([1, -2, 4]) \n",
    "v = np.array([3, 5, 1])\n",
    "print(\"angle:\",u.dot(v)/(np.linalg.norm(u)*np.linalg.norm(v)))"
   ]
  },
  {
   "cell_type": "markdown",
   "id": "b84bb96d-a27a-4b09-867f-9262faaff663",
   "metadata": {},
   "source": [
    "<br><br>f. If $\\alpha$ is the angle between $\\textbf{v}$  and   $\\textbf{w}$, find $\\cos{\\alpha}$.<br>\n",
    "\\begin{align}\n",
    "= \\frac{3(2) + 5(1) + 1(-3)}{\\sqrt{1^2 + (-2)^2 + 4^2}\\sqrt{3^2 + 5^2 + 1^2}}\n",
    "       = \\frac{8}{\\sqrt{35}\\sqrt{14}}\n",
    "\\end{align}"
   ]
  },
  {
   "cell_type": "code",
   "execution_count": 24,
   "id": "840ba7f4-6b3d-478f-87c1-883223afe2b1",
   "metadata": {},
   "outputs": [
    {
     "name": "stdout",
     "output_type": "stream",
     "text": [
      "angle: 0.36140316116210053\n"
     ]
    }
   ],
   "source": [
    "v = np.array([3, 5, 1])\n",
    "w = np.array([2,1,-3])\n",
    "print(\"angle:\",v.dot(w)/(np.linalg.norm(v)*np.linalg.norm(w)))"
   ]
  },
  {
   "cell_type": "markdown",
   "id": "b9355780-1660-4c72-a918-312a82183dbe",
   "metadata": {},
   "source": [
    "<br><br>g. If $\\beta$ is the angle between $\\textbf{u}$  and   $\\textbf{w}$, find $\\cos{\\beta}$.<br>\n",
    "\\begin{align}\n",
    "  = \\frac{1(2) - 2(1) + 4(-3)}{\\sqrt{1^2 + (-2)^2 + 4^2}\\sqrt{3^2 + 5^2 + 1^2}}\n",
    "       = \\frac{-12}{\\sqrt{21}\\sqrt{14}}\n",
    "\\end{align}"
   ]
  },
  {
   "cell_type": "code",
   "execution_count": 25,
   "id": "bdf000a6-8047-4550-8c31-18da59875dac",
   "metadata": {},
   "outputs": [
    {
     "name": "stdout",
     "output_type": "stream",
     "text": [
      "angle: -0.6998542122237653\n"
     ]
    }
   ],
   "source": [
    "u = np.array([1, -2, 4]) \n",
    "w = np.array([2,1,-3])\n",
    "print(\"angle:\",u.dot(w)/(np.linalg.norm(u)*np.linalg.norm(w)))"
   ]
  },
  {
   "cell_type": "markdown",
   "id": "46951bdc-3dce-4c23-91fa-9ad87f639175",
   "metadata": {},
   "source": [
    "<br><br>h. Find $d(\\textbf{u},\\textbf{v})$.<br>\n",
    "\\begin{align}\n",
    "d(u,v)= ||u - v|| = \\sqrt{(1-3)^2 + (-2-5)^2 + (4-1)^2}\n",
    "       = \\sqrt{4 + 49 + 9} = \\sqrt{62} \n",
    "\\end{align}"
   ]
  },
  {
   "cell_type": "code",
   "execution_count": 26,
   "id": "7cfd6580-b580-46fd-a54e-47d7ab23bafc",
   "metadata": {},
   "outputs": [
    {
     "name": "stdout",
     "output_type": "stream",
     "text": [
      "d(u,v):  7.874007874011811\n"
     ]
    }
   ],
   "source": [
    "u = np.array([1, -2, 4]) \n",
    "v = np.array([3, 5, 1])\n",
    "print(\"d(u,v): \", np.linalg.norm(u-v))"
   ]
  },
  {
   "cell_type": "markdown",
   "id": "1f3c4e17-e361-4fb1-adf4-33c4019fb129",
   "metadata": {},
   "source": [
    "<br><br>i. Find $d(\\textbf{w},\\textbf{v})$.<br>\n",
    "\n",
    "\\begin{align}\n",
    "d(w,v) = ||w - v|| = \\sqrt{(2-3)^2 + (1-5)^2 + (-3-1)^2}\n",
    "       = $\\sqrt{1 + 16 + 16} = \\sqrt{33}\n",
    "\\end{align}"
   ]
  },
  {
   "cell_type": "code",
   "execution_count": 28,
   "id": "8e71aa1b-0b6e-4094-8743-74986417ad58",
   "metadata": {},
   "outputs": [
    {
     "name": "stdout",
     "output_type": "stream",
     "text": [
      "d(w,v):  5.744562646538029\n"
     ]
    }
   ],
   "source": [
    "v = np.array([3, 5, 1])\n",
    "w = np.array([2,1,-3])\n",
    "print(\"d(w,v): \", np.linalg.norm(w-v))"
   ]
  },
  {
   "cell_type": "markdown",
   "id": "a162f5b4-2290-4849-9a6b-94c1967029c0",
   "metadata": {},
   "source": [
    "<br><br>j. Find $d(\\textbf{u},\\textbf{w})$. <br>\n",
    "\n",
    "\\begin{align}\n",
    "d(u,w) = ||u - w|| = \\sqrt{(1-2)^2 + (-2-1)^2 + (4-(-3))^2}\n",
    "       = \\sqrt{1 + 9 + 49} = \\sqrt{59} \n",
    "\\end{align}"
   ]
  },
  {
   "cell_type": "code",
   "execution_count": 29,
   "id": "49be5dc7-83af-4fdc-8e02-ca0dc4a56809",
   "metadata": {},
   "outputs": [
    {
     "name": "stdout",
     "output_type": "stream",
     "text": [
      "d(u,w):  7.681145747868608\n"
     ]
    }
   ],
   "source": [
    "u = np.array([1, -2, 4]) \n",
    "\n",
    "w = np.array([2,1,-3])\n",
    "\n",
    "print(\"d(u,w): \", np.linalg.norm(u-w))"
   ]
  },
  {
   "cell_type": "markdown",
   "id": "524da186-126f-4bb0-8629-ab773abf3aef",
   "metadata": {},
   "source": [
    "<br><br>k. Find $proj(\\textbf{u},\\textbf{v})$.<br>\n",
    "\n",
    "\\begin{align}\n",
    "proj(u,v) = \\frac{u \\cdot v}{||v||^2}v =\n",
    "       \\frac{-3}{(\\sqrt{35})^2}(3,5,1) = (\\frac{-9}{35}), \n",
    "       \\frac{-15}{(35)}, \\frac{-3}{35} \n",
    "\\end{align}"
   ]
  },
  {
   "cell_type": "code",
   "execution_count": 32,
   "id": "de5318e3-ce25-44de-b8f1-6ffebbb2d2fe",
   "metadata": {},
   "outputs": [
    {
     "name": "stdout",
     "output_type": "stream",
     "text": [
      "proj(u,v):  [-0.25714286 -0.42857143 -0.08571429]\n"
     ]
    }
   ],
   "source": [
    "u = np.array([1, -2, 4]) \n",
    "v = np.array([3, 5, 1])\n",
    "print(\"proj(u,v): \",u.dot(v)*v/(np.linalg.norm(v)**2) )"
   ]
  },
  {
   "cell_type": "markdown",
   "id": "6513db62-1b7b-49f8-b0af-7d6727703f37",
   "metadata": {},
   "source": [
    "<br><br>l. Find $proj(\\textbf{w},\\textbf{v})$.<br>\n",
    "\n",
    "\\begin{align}\n",
    " proj(w,v) = \\frac{w \\cdot v}{||v||^2}v= \n",
    "       \\frac{8}{(\\sqrt{35})^2}(3,5,1) = (\\frac{24}{35}, \n",
    "       \\frac{40}{35}, \\frac{8}{35})\n",
    "\\end{align}"
   ]
  },
  {
   "cell_type": "code",
   "execution_count": 33,
   "id": "85d8998d-350f-41c9-b2ae-9cc6a690100b",
   "metadata": {},
   "outputs": [
    {
     "name": "stdout",
     "output_type": "stream",
     "text": [
      "proj(w,v):  [0.68571429 1.14285714 0.22857143]\n"
     ]
    }
   ],
   "source": [
    "v = np.array([3, 5, 1])\n",
    "w = np.array([2,1,-3])\n",
    "print(\"proj(w,v): \",w.dot(v)*v/(np.linalg.norm(v)**2) )"
   ]
  },
  {
   "cell_type": "markdown",
   "id": "355ad910-4a5c-40c1-afbc-b4801de92716",
   "metadata": {},
   "source": [
    "<br><br>m. Find $proj(\\textbf{u},\\textbf{w})$. <br> \n",
    "\n",
    "\\begin{align}\n",
    "proj(u,w) = \\frac{u \\cdot w}{||w||^2}w = \n",
    "       \\frac{-12}{(\\sqrt{14})^2}(2,1,-3) = (\\frac{-24}{14}, \n",
    "       \\frac{-12}{14}, \\frac{36}{14})\n",
    "\\end{align}"
   ]
  },
  {
   "cell_type": "code",
   "execution_count": 34,
   "id": "fa839636-628f-43a1-8d0d-4067b342b027",
   "metadata": {},
   "outputs": [
    {
     "name": "stdout",
     "output_type": "stream",
     "text": [
      "proj(u,v):  [-1.71428571 -0.85714286  2.57142857]\n"
     ]
    }
   ],
   "source": [
    "u = np.array([1, -2, 4]) \n",
    "w = np.array([2,1,-3])\n",
    "print(\"proj(u,v): \",u.dot(w)*w/(np.linalg.norm(w)**2) )"
   ]
  },
  {
   "cell_type": "markdown",
   "id": "328bfe8b-b1c9-4917-ab0a-c5bb05dc9e1b",
   "metadata": {},
   "source": [
    "2. Repeat problem 1 with the following column vectors:\n",
    "\\begin{align}\n",
    "    \\textbf{u} &= \\begin{bmatrix}\n",
    "           1 \\\\\n",
    "           3 \\\\\n",
    "           -4\n",
    "         \\end{bmatrix}, \\textbf{v} = \\begin{bmatrix}\n",
    "           2 \\\\\n",
    "           1 \\\\\n",
    "           5\n",
    "         \\end{bmatrix}, \\textbf{w} = \\begin{bmatrix}\n",
    "           3 \\\\\n",
    "           -2 \\\\\n",
    "           6\n",
    "         \\end{bmatrix}\n",
    "  \\end{align}"
   ]
  },
  {
   "cell_type": "markdown",
   "id": "417d6973-381e-4f5e-b7f0-ae1b8372a8ab",
   "metadata": {},
   "source": [
    "a. $3\\textbf{u}-2\\textbf{v}$<br>\n",
    "<br>\n",
    "\\begin{align}\n",
    "    3\\textbf{u}-2\\textbf{v} &= 3\\begin{bmatrix}\n",
    "           1 \\\\\n",
    "           3 \\\\\n",
    "           4\n",
    "         \\end{bmatrix} - 2 \\begin{bmatrix}\n",
    "           2 \\\\\n",
    "           1 \\\\\n",
    "           5\n",
    "         \\end{bmatrix}= \\begin{bmatrix}\n",
    "           3 \\\\\n",
    "           9 \\\\\n",
    "           -12\n",
    "         \\end{bmatrix} + \\begin{bmatrix}\n",
    "           -4 \\\\\n",
    "           -2 \\\\\n",
    "           -10\n",
    "         \\end{bmatrix} = \\begin{bmatrix}\n",
    "           -1 \\\\\n",
    "           7 \\\\\n",
    "           -22\n",
    "         \\end{bmatrix}\n",
    "  \\end{align}"
   ]
  },
  {
   "cell_type": "code",
   "execution_count": 41,
   "id": "427fcc14-ae72-4f2f-9b56-e4b956030b69",
   "metadata": {},
   "outputs": [
    {
     "name": "stdout",
     "output_type": "stream",
     "text": [
      "3𝐮-2𝐯:  [ -1   7 -22]\n"
     ]
    }
   ],
   "source": [
    "u = np.array([1, 3, -4]) \n",
    "v = np.array([2, 1, 5])\n",
    "print(\"3𝐮-2𝐯: \", (3*u) - (2*v))"
   ]
  },
  {
   "cell_type": "markdown",
   "id": "c90919a0-f326-4432-ae6c-766f342875de",
   "metadata": {},
   "source": [
    "<br><br>b. $5\\textbf{u}+3\\textbf{v}-4\\textbf{w}$<br>\n",
    "\\begin{align}\n",
    " 5\\textbf{u}+3\\textbf{v}-4\\textbf{w} =  5\\begin{bmatrix}\n",
    "           1 \\\\\n",
    "           3 \\\\\n",
    "           -4\n",
    "         \\end{bmatrix} + 3\\begin{bmatrix}\n",
    "           2 \\\\\n",
    "           1 \\\\\n",
    "           5\n",
    "         \\end{bmatrix} - 4\\begin{bmatrix}\n",
    "           3 \\\\\n",
    "           -2 \\\\\n",
    "           6\n",
    "         \\end{bmatrix} = \\begin{bmatrix}\n",
    "           5 \\\\\n",
    "           15 \\\\\n",
    "           -20\n",
    "         \\end{bmatrix} + \\begin{bmatrix}\n",
    "           6 \\\\\n",
    "           3 \\\\\n",
    "           15\n",
    "         \\end{bmatrix} + \\begin{bmatrix}\n",
    "           -12 \\\\\n",
    "           8 \\\\\n",
    "           -24\n",
    "         \\end{bmatrix}= \\begin{bmatrix}\n",
    "           -1 \\\\\n",
    "           26 \\\\\n",
    "           29\n",
    "         \\end{bmatrix}\n",
    "  \\end{align}"
   ]
  },
  {
   "cell_type": "code",
   "execution_count": 42,
   "id": "e470b088-0977-456f-8160-ab50df9faf50",
   "metadata": {},
   "outputs": [
    {
     "name": "stdout",
     "output_type": "stream",
     "text": [
      "5𝐮+3𝐯-4w:  [ -1  26 -29]\n"
     ]
    }
   ],
   "source": [
    "u = np.array([1, 3, -4]) \n",
    "v = np.array([2, 1, 5])\n",
    "w = np.array([3, -2, 6])\n",
    "print(\"5𝐮+3𝐯-4w: \", (5*u) + (3*v) - (4*w))"
   ]
  },
  {
   "cell_type": "markdown",
   "id": "65711d2b-8f87-419b-899f-c854e3ab31c1",
   "metadata": {},
   "source": [
    "<br><br>c. $\\textbf{u} \\cdotp \\textbf{v}$,$\\textbf{v} \\cdotp \\textbf{w}$, $\\textbf{u} \\cdotp \\textbf{w}$<br>\n",
    "\\begin{align}\n",
    "u \\cdot v &= \\begin{bmatrix}          \n",
    "           1 \\\\\n",
    "           3 \\\\\n",
    "           -4\n",
    "           \\end{bmatrix} \\cdot\n",
    "           \\begin{bmatrix}\n",
    "           2 \\\\\n",
    "           1 \\\\\n",
    "           5\n",
    "           \\end{bmatrix} \n",
    "&= (-15) \\\\\n",
    "v \\cdot w &=  \\begin{bmatrix}          \n",
    "           2 \\\\\n",
    "           1 \\\\\n",
    "           5\n",
    "           \\end{bmatrix} \\cdot\n",
    "           \\begin{bmatrix}\n",
    "           3 \\\\\n",
    "           -2 \\\\\n",
    "           6\n",
    "           \\end{bmatrix}\n",
    "&= 34 \\\\\n",
    "u \\cdot w &= \\begin{bmatrix}          \n",
    "           1 \\\\\n",
    "           3 \\\\\n",
    "           -4\n",
    "           \\end{bmatrix} \\cdot\n",
    "           \\begin{bmatrix}\n",
    "           3 \\\\\n",
    "           -2 \\\\\n",
    "           6\n",
    "           \\end{bmatrix} \n",
    "&= (-27)\n",
    "\\end{align}"
   ]
  },
  {
   "cell_type": "code",
   "execution_count": 43,
   "id": "122b8b3f-1efe-484f-a12d-3b2463e1d630",
   "metadata": {},
   "outputs": [
    {
     "name": "stdout",
     "output_type": "stream",
     "text": [
      "u.v, v.w, u.w = -15 , 34 , -27\n"
     ]
    }
   ],
   "source": [
    "u = np.array([1, 3, -4]) \n",
    "v = np.array([2, 1, 5])\n",
    "w = np.array([3, -2, 6])\n",
    "print(\"u.v, v.w, u.w =\", u.dot(v), \",\", v.dot(w), \",\", u.dot(w))"
   ]
  },
  {
   "cell_type": "markdown",
   "id": "3520ceca-e1e0-4420-bb9c-26bee7a603f5",
   "metadata": {},
   "source": [
    "<br><br>d. ||$\\textbf{u}||, ||$\\textbf{v}||, ||$\\textbf{w}$||<br>\n",
    "\\begin{align}\n",
    "||u|| = \\sqrt{1^2 + 3^2 + (-4)^2}\n",
    "= \\sqrt{1 + 9 + 16} \n",
    "= \\sqrt{26} \\\\\n",
    "||v|| = \\sqrt{2^2 + 1^2 + 5^2}\n",
    "= \\sqrt{4 + 1 + 25}\n",
    "= \\sqrt{30}\\\\\n",
    "||w|| = \\sqrt{3^2 + (-2)^2 + 6^2}\n",
    "= \\sqrt{9 + 4 + 36}\n",
    "= \\sqrt{49}\n",
    "= 7 \n",
    "\\end{align}"
   ]
  },
  {
   "cell_type": "code",
   "execution_count": 45,
   "id": "85135362-776d-46e8-8108-7772da3e8097",
   "metadata": {},
   "outputs": [
    {
     "name": "stdout",
     "output_type": "stream",
     "text": [
      "||u||:  5.0990195135927845\n",
      "||v||:  5.477225575051661\n",
      "||w||:  5.830951894845301\n"
     ]
    }
   ],
   "source": [
    "u = np.array([1, 3, -4]) \n",
    "v = np.array([2, 1, 5])\n",
    "w = np.array([3, -2, 6])\n",
    "\n",
    "print('||u||: ', np.sqrt(u.dot(u)))\n",
    "print('||v||: ', np.sqrt(v.dot(v)))\n",
    "print('||w||: ', np.sqrt(v.dot(w)))"
   ]
  },
  {
   "cell_type": "markdown",
   "id": "b9dc97c6-ab28-4c6a-bcd0-773da35fbef6",
   "metadata": {},
   "source": [
    "<br><br>e. If $\\theta$ is the angle between $\\textbf{u}$  and   $\\textbf{v}$, find $\\cos{\\theta}$.<br>\n",
    "\\begin{align}\n",
    "\\frac{\\textbf{u} \\cdot \\textbf{v}}{||\\textbf{u}|| \\ ||\\textbf{v}||}\n",
    "= \\frac{-15}{\\sqrt{26} \\cdot \\sqrt{30}}\n",
    "\\end{align}\n",
    "\n"
   ]
  },
  {
   "cell_type": "code",
   "execution_count": 46,
   "id": "37afc748-df2a-4a2f-a51a-88bb4cfbb9e9",
   "metadata": {},
   "outputs": [
    {
     "name": "stdout",
     "output_type": "stream",
     "text": [
      "angle: -0.5370861555295747\n"
     ]
    }
   ],
   "source": [
    "u = np.array([1, 3, -4]) \n",
    "v = np.array([2, 1, 5])\n",
    "print(\"angle:\",u.dot(v)/(np.linalg.norm(u)*np.linalg.norm(v)))"
   ]
  },
  {
   "cell_type": "markdown",
   "id": "45fa1ec2-633c-4dd3-ad53-550cb04c6fbc",
   "metadata": {},
   "source": [
    "<br><br>f. If $\\alpha$ is the angle between $\\textbf{v}$  and   $\\textbf{w}$, find $\\cos{\\alpha}$.<br>\n",
    "\n",
    "\n",
    "\\begin{align}\n",
    "\\frac{\\textbf{v} \\cdot \\textbf{w}}{||\\textbf{v}|| \\ ||\\textbf{w}||}\n",
    "= \\frac{34}{\\sqrt{30} \\cdot \\sqrt{49}}\n",
    "= \\frac{34}{7 \\cdot \\sqrt{30}}\n",
    "\\end{align}\n"
   ]
  },
  {
   "cell_type": "code",
   "execution_count": 47,
   "id": "94d10d38-7b1b-42b6-a147-a2b80811fcc1",
   "metadata": {},
   "outputs": [
    {
     "name": "stdout",
     "output_type": "stream",
     "text": [
      "angle: 0.8867889026274118\n"
     ]
    }
   ],
   "source": [
    "v = np.array([2, 1, 5])\n",
    "w = np.array([3, -2, 6])\n",
    "print(\"angle:\",v.dot(w)/(np.linalg.norm(v)*np.linalg.norm(w)))"
   ]
  },
  {
   "cell_type": "markdown",
   "id": "fb591054-0c26-4247-b9b3-d3a8b378517f",
   "metadata": {},
   "source": [
    "<br><br>g. If $\\beta$ is the angle between $\\textbf{u}$  and   $\\textbf{w}$, find \\cos{\\beta}.\n",
    "\\begin{align}\n",
    "\\frac{\\textbf{u} \\cdot \\textbf{w}}{||\\textbf{u}|| \\ ||\\textbf{w}||}\n",
    "= \\frac{-27}{\\sqrt{26} \\cdot \\sqrt{49}}\n",
    "= \\frac{-27}{7\\sqrt{26}}\n",
    "\\end{align}\n"
   ]
  },
  {
   "cell_type": "code",
   "execution_count": 48,
   "id": "91e7f826-b151-4191-a1d2-5576049596de",
   "metadata": {},
   "outputs": [
    {
     "name": "stdout",
     "output_type": "stream",
     "text": [
      "angle: -0.7564479498187099\n"
     ]
    }
   ],
   "source": [
    "u = np.array([1, 3, -4]) \n",
    "w = np.array([3, -2, 6])\n",
    "print(\"angle:\",u.dot(w)/(np.linalg.norm(u)*np.linalg.norm(w)))"
   ]
  },
  {
   "cell_type": "markdown",
   "id": "57e27afe-0be8-41e0-aa44-82e7a8464909",
   "metadata": {},
   "source": [
    "<br><br>h. Find $d(\\textbf{u},\\textbf{v})$.<br>\n",
    "\\begin{align}\n",
    "= ||u - v||\n",
    "= \\sqrt{(1-2)^2 + (3-1)^2 + (-4-5)^2}\n",
    "= \\sqrt{(-1)^2 + (2)^2 + (-9)^2}\n",
    "= \\sqrt{1 + 4 + 81}\n",
    "= \\sqrt{86}\n",
    "\\end{align}"
   ]
  },
  {
   "cell_type": "code",
   "execution_count": 51,
   "id": "6b47e780-693a-4d5a-9e6a-7612105b5c22",
   "metadata": {},
   "outputs": [
    {
     "name": "stdout",
     "output_type": "stream",
     "text": [
      "d(u,v):  9.273618495495704\n"
     ]
    }
   ],
   "source": [
    "u = np.array([1, 3, -4]) \n",
    "v = np.array([2, 1, 5])\n",
    "print(\"d(u,v): \", np.linalg.norm(u-v))"
   ]
  },
  {
   "cell_type": "markdown",
   "id": "6649abec-0ee9-4ce0-8fa1-35b8d7615e5a",
   "metadata": {},
   "source": [
    "<br><br>i. Find $d(\\textbf{w},\\textbf{v})$.<br>\n",
    "\\begin{align}\n",
    "||w - v|| &= \\sqrt{(3-2)^2 + (-2-1)^2 + (6-5)^2} \\\\\n",
    "&= \\sqrt{(1)^2 + (-3)^2 + (1)^2} \\\\\n",
    "&= \\sqrt{1 + 9 + 1} \\\\\n",
    "&= \\sqrt{11}\n",
    "\\end{align}\n"
   ]
  },
  {
   "cell_type": "code",
   "execution_count": 50,
   "id": "6e7aad8e-2c84-45fe-824f-c9d0f5782171",
   "metadata": {},
   "outputs": [
    {
     "name": "stdout",
     "output_type": "stream",
     "text": [
      "d(w,v):  3.3166247903554\n"
     ]
    }
   ],
   "source": [
    "v = np.array([2, 1, 5])\n",
    "w = np.array([3, -2, 6])\n",
    "print(\"d(w,v): \", np.linalg.norm(w-v))"
   ]
  },
  {
   "cell_type": "markdown",
   "id": "96431d94-794a-4d2a-adc9-9fdc7970021e",
   "metadata": {},
   "source": [
    "<br><br>j. Find $d(\\textbf{u},\\textbf{w})$. <br>\n",
    "\\begin{align}\n",
    "= ||u - w||\n",
    "= \\sqrt{(1-3)^2 + (3+2)^2 + (-4-6)^2}\n",
    "= \\sqrt{(-2)^2 + 5^2 + (-10)^2}\n",
    "= \\sqrt{4 + 25 + 100}\n",
    "= \\sqrt{129}\n",
    "\\end{align}"
   ]
  },
  {
   "cell_type": "code",
   "execution_count": 49,
   "id": "c3adca65-1c31-40b4-ac46-c5aef4ef2987",
   "metadata": {},
   "outputs": [
    {
     "name": "stdout",
     "output_type": "stream",
     "text": [
      "d(u,w):  11.357816691600547\n"
     ]
    }
   ],
   "source": [
    "u = np.array([1, 3, -4]) \n",
    "w = np.array([3, -2, 6])\n",
    "print(\"d(u,w): \", np.linalg.norm(u-w))"
   ]
  },
  {
   "cell_type": "markdown",
   "id": "c388e7ff-7090-4f61-bc32-e656e6e16d52",
   "metadata": {},
   "source": [
    "<br><br>k. Find $proj(\\textbf{u},\\textbf{v})$.<br>\n",
    "\\begin{align}\n",
    "\\frac{u.v}{||v||^2} v \n",
    "u.v = -15$<br>\n",
    "||v|| =\\sqrt{30}\n",
    "\\frac{-15}{30}(2,1,5) \n",
    "(\\frac{-30}{30}, \\frac{-15}{30}, \\frac{-75}{30})\n",
    "\\end{align}"
   ]
  },
  {
   "cell_type": "code",
   "execution_count": 55,
   "id": "108e0f9f-5817-4c55-856e-44f62ce82729",
   "metadata": {},
   "outputs": [
    {
     "name": "stdout",
     "output_type": "stream",
     "text": [
      "proj(u,v):  [-1.  -0.5 -2.5]\n"
     ]
    }
   ],
   "source": [
    "u = np.array([1, 3, -4]) \n",
    "v = np.array([2, 1, 5])\n",
    "print(\"proj(u,v): \",u.dot(v)*v/(np.linalg.norm(v)**2) )"
   ]
  },
  {
   "cell_type": "markdown",
   "id": "00bc402a-9bff-47d4-adbb-c64d5ba114eb",
   "metadata": {},
   "source": [
    "<br><br>l. Find $proj(\\textbf{w},\\textbf{v})$.<br>\n",
    "\\begin{align}\n",
    "\\frac{w.v}{||v||^2} v\n",
    "w.v = 34\n",
    "||v|| =\\sqrt{30}\n",
    "\\frac{34}{30}(2,1,5) \n",
    "(\\frac{68}{30}, \\frac{34}{30}, \\frac{170}{30})\n",
    "\\end{align}"
   ]
  },
  {
   "cell_type": "code",
   "execution_count": 54,
   "id": "962220b1-fad5-4ffd-be16-70f1f41f6131",
   "metadata": {},
   "outputs": [
    {
     "name": "stdout",
     "output_type": "stream",
     "text": [
      "proj(w,v):  [2.26666667 1.13333333 5.66666667]\n"
     ]
    }
   ],
   "source": [
    "v = np.array([2, 1, 5])\n",
    "w = np.array([3, -2, 6])\n",
    "print(\"proj(w,v): \",w.dot(v)*v/(np.linalg.norm(v)**2) )"
   ]
  },
  {
   "cell_type": "markdown",
   "id": "1b895bc3-95b6-4bec-a218-98293c8f6130",
   "metadata": {},
   "source": [
    "<br><br>m. Find $proj(\\textbf{u},\\textbf{w})$. <br>  \n",
    "\\begin{align}\n",
    "\\frac{u.w}{||w||^2} v \n",
    "u.w = -27\n",
    "||w|| =\\sqrt{49}\n",
    "\\frac{-27}{49}(3,-2,6) \n",
    "(\\frac{-81}{49}, \\frac{54}{49}, \\frac{-162}{49})\n",
    "\\end{align}"
   ]
  },
  {
   "cell_type": "code",
   "execution_count": 53,
   "id": "cce9e448-9ad3-4965-84db-2d6882909962",
   "metadata": {},
   "outputs": [
    {
     "name": "stdout",
     "output_type": "stream",
     "text": [
      "proj(u,w):  [-1.65306122  1.10204082 -3.30612245]\n"
     ]
    }
   ],
   "source": [
    "u = np.array([1, 3, -4]) \n",
    "w = np.array([3, -2, 6])\n",
    "print(\"proj(u,w): \",u.dot(w)*w/(np.linalg.norm(w)**2) )"
   ]
  },
  {
   "cell_type": "markdown",
   "id": "bfa9a9c4-fa63-4f63-bbce-0b84606bef15",
   "metadata": {},
   "source": [
    "<br><br>3. Let $\\textbf{u} = (2,-5,4,6,-3)$, $\\textbf{v} = (5,-2,1,-7,-4)$, and $\\textbf{w} = (2,1,-3)$ find:<br>"
   ]
  },
  {
   "cell_type": "markdown",
   "id": "6878c4e5-31f1-4ce8-ab14-f3240d6817a4",
   "metadata": {},
   "source": [
    "<br><br>a. $4\\textbf{u}-3\\textbf{v}$<br>\n",
    "\\begin{align}\n",
    "      = 4(2,-5,4, 6, -3) - 3(5,-2,1, -7, -4) \\\\\n",
    "      = (8,-20,16,24,-12) - (15,-6,3,-21,-12)  \\\\\n",
    "      = (-7,-35,13,45,0) \n",
    "\\end{align}"
   ]
  },
  {
   "cell_type": "code",
   "execution_count": 12,
   "id": "8da4a6db-7757-4046-93b7-659c3eb7fa87",
   "metadata": {},
   "outputs": [
    {
     "name": "stdout",
     "output_type": "stream",
     "text": [
      "a. 4u-3v =  [ -7 -14  13  45   0]\n"
     ]
    }
   ],
   "source": [
    "u = np.array([2,-5,4,6,-3])\n",
    "v = np.array([5,-2,1, -7, -4]) \n",
    "w = np.array([2,1,-3, 0, 0])\n",
    "\n",
    "print(\"a. 4u-3v = \", u.dot(4) - v.dot(3))"
   ]
  },
  {
   "cell_type": "markdown",
   "id": "06b6327d-d9b9-438b-9d10-f28201c63675",
   "metadata": {},
   "source": [
    "<br><br>b. $5\\textbf{u}+2\\textbf{v}-2\\textbf{w}$<br>\n",
    "\\begin{align}\n",
    "= 5(2,-5,4, 6, -3) + 2(5,-2,1, -7, -4) - 2(2,1,-3) \\\\\n",
    "      (10,-25,20,30,-15) + (10,-4,2,-14,-8) - (4,2,-6) \\\\\n",
    "[16,-31,,28,16,-23] \n",
    "\\end{align}"
   ]
  },
  {
   "cell_type": "code",
   "execution_count": 15,
   "id": "69d69fef-53fe-4f2b-9b73-fab57133a000",
   "metadata": {},
   "outputs": [
    {
     "name": "stdout",
     "output_type": "stream",
     "text": [
      "b. 5u + 2v - 2w =  [ 16 -31  28  16 -23]\n"
     ]
    }
   ],
   "source": [
    "u = np.array([2,-5,4,6,-3])\n",
    "v = np.array([5,-2,1, -7, -4]) \n",
    "w = np.array([2,1,-3, 0, 0])\n",
    "print(\"b. 5u + 2v - 2w = \", u.dot(5) + v.dot(2) - w.dot(2))"
   ]
  },
  {
   "cell_type": "markdown",
   "id": "cb8b3aaf-7816-4131-9b0f-b2a464298af1",
   "metadata": {},
   "source": [
    "<br><br>c. $\\textbf{u} \\cdotp \\textbf{v}$,$\\textbf{v} \\cdotp \\textbf{w}$, $\\textbf{u} \\cdotp \\textbf{w}$<br>\n",
    "\\begin{align}\n",
    " u  \\cdot  v = 2(5) + (-5)(-2) + 4(1) + 6(-7) + (-3)(-4)\\\\ = -6 \\\\\n",
    "      v.w = (5)(2) + (-2)(1) + (1)(-3) + (-7)(0) + (-4)(0) \\\\\n",
    "    = 10 - 2 - 3 \\\\\n",
    "    = 5\\\\\n",
    "    u.w = (2)(2) + (-5)(1) + (4)(-3) + (6)(0) + (-3)(0) \\\\\n",
    "    = 4 - 5 - 12 \\\\\n",
    "    = -13 \n",
    "\\end{align}"
   ]
  },
  {
   "cell_type": "code",
   "execution_count": 16,
   "id": "6b4d9666-1ce6-4acd-8689-40898c78a414",
   "metadata": {},
   "outputs": [
    {
     "name": "stdout",
     "output_type": "stream",
     "text": [
      "u.v =  -6\n",
      "v.w =  5\n",
      "u.w =  -13\n"
     ]
    }
   ],
   "source": [
    "u = np.array([2,-5,4,6,-3])\n",
    "v = np.array([5,-2,1, -7, -4]) \n",
    "w = np.array([2,1,-3, 0, 0])\n",
    "print(\"u.v = \", u.dot(v))\n",
    "print(\"v.w = \", v.dot(w))\n",
    "print(\"u.w = \", u.dot(w))"
   ]
  },
  {
   "cell_type": "markdown",
   "id": "768b44e8-c677-4d23-bcc8-cb2a1284857f",
   "metadata": {},
   "source": [
    "<br><br>d. ||$\\textbf{u}$||, ||$\\textbf{v}$||, ||$\\textbf{w}$||<br>\n",
    "\\begin{align}\n",
    "||u|| = \\sqrt{2^2 + (-5)^2 + 4^2 + 6^2 + (-3)^2}\\\\ = \\sqrt{90}\\\\\n",
    "      ||v|| = \\sqrt{5^2 + (-2)^2 + 1^2 + (-7)^2 (-4)^2} \\\\ = \\sqrt{95} \\\\\n",
    "      ||w|| = \\sqrt{2^2 + 1^2 + (-3)^2} \\\\ = \\sqrt{14}\n",
    "\\end{align}"
   ]
  },
  {
   "cell_type": "code",
   "execution_count": 20,
   "id": "cdd87033-af55-493a-91a4-6b89f5df0f45",
   "metadata": {},
   "outputs": [
    {
     "name": "stdout",
     "output_type": "stream",
     "text": [
      "||u|| =  9.486832980505138 ||v|| =  9.746794344808963 ||w|| =  3.7416573867739413\n"
     ]
    }
   ],
   "source": [
    "u = np.array([2,-5,4,6,-3])\n",
    "v = np.array([5,-2,1, -7, -4]) \n",
    "w = np.array([2,1,-3, 0, 0])\n",
    "print(\"||u|| = \", np.sqrt(u.dot(u)), \"||v|| = \", np.sqrt(v.dot(v)), \"||w|| = \", np.linalg.norm(w))"
   ]
  },
  {
   "cell_type": "markdown",
   "id": "91dbb3a0-6b3f-4d19-b195-e04d2bc893bc",
   "metadata": {},
   "source": [
    "<br><br>e. If $\\theta$ is the angle between $\\textbf{u}$  and   $\\textbf{v}$, find $\\cos{\\theta}$.<br>\n",
    "\\begin{align}\n",
    "    = \\frac{2(5) + (-5)(-2) + 4(6) + 6(-7) + (-3)(-4)}{\\sqrt{2^2 + (-5)^2 + 4^2 + 6^2 + (-3)^2}\\sqrt{5^2 + (-2)^2 + 1^2 + (-7)^2 (-4)^2}}\n",
    "      = \\frac{-6}{\\sqrt{90}\\sqrt{95}}\n",
    "\\end{align}"
   ]
  },
  {
   "cell_type": "code",
   "execution_count": 19,
   "id": "a354f22b-b55a-4e10-a4ee-5ec947aae476",
   "metadata": {},
   "outputs": [
    {
     "name": "stdout",
     "output_type": "stream",
     "text": [
      "cosθ =  -0.06488856845230502\n"
     ]
    }
   ],
   "source": [
    "u = np.array([2,-5,4,6,-3])\n",
    "v = np.array([5,-2,1, -7, -4]) \n",
    "w = np.array([2,1,-3, 0, 0])\n",
    "print(\"cosθ = \", u.dot(v) / (np.linalg.norm(u) * np.linalg.norm(v)))"
   ]
  },
  {
   "cell_type": "markdown",
   "id": "a6e7b7db-5c6d-4c83-9856-34223ad66bc9",
   "metadata": {},
   "source": [
    "<br><br>f. If $\\alpha$ is the angle between $\\textbf{v}$  and   $\\textbf{w}$, find $\\cos{\\alpha}$.<br>\n",
    "\\begin{align}\n",
    "\\frac{\\mathbf{v} \\cdot \\mathbf{w}}{||\\mathbf{v}|| \\ ||\\mathbf{w}||} = \\frac{5}{\\sqrt{95} \\cdot \\sqrt{14}}\n",
    "\\end{align}\n"
   ]
  },
  {
   "cell_type": "code",
   "execution_count": 21,
   "id": "98c32211-824a-407d-94ee-6b09c5af8311",
   "metadata": {},
   "outputs": [
    {
     "name": "stdout",
     "output_type": "stream",
     "text": [
      "angle:  0.13710212427677046\n"
     ]
    }
   ],
   "source": [
    "u = np.array([2,-5,4,6,-3])\n",
    "v = np.array([5,-2,1, -7, -4]) \n",
    "w = np.array([2,1,-3, 0, 0])\n",
    "print(\"angle: \", v.dot(w) / (np.linalg.norm(v) * np.linalg.norm(w)))"
   ]
  },
  {
   "cell_type": "markdown",
   "id": "ddb41206-484f-407f-92c2-4fb07cd9fe81",
   "metadata": {},
   "source": [
    "<br><br>g. If $\\beta$ is the angle between $\\textbf{u}$  and   $\\textbf{w}$, find $\\cos{\\beta}$.<br>\n",
    "\\begin{align}\n",
    "\\frac{\\mathbf{u} \\cdot \\mathbf{w}}{||\\mathbf{u}|| \\ ||\\mathbf{w}||} = \\frac{-13}{\\sqrt{90} \\cdot \\sqrt{14}}\n",
    "\\end{align}"
   ]
  },
  {
   "cell_type": "code",
   "execution_count": 22,
   "id": "ba0885f6-c149-4d58-b14a-6b066dc318b2",
   "metadata": {},
   "outputs": [
    {
     "name": "stdout",
     "output_type": "stream",
     "text": [
      "angle:  -0.3662335103823572\n"
     ]
    }
   ],
   "source": [
    "u = np.array([2,-5,4,6,-3])\n",
    "v = np.array([5,-2,1, -7, -4]) \n",
    "w = np.array([2,1,-3, 0, 0])\n",
    "print(\"angle: \", u.dot(w) / (np.linalg.norm(u) * np.linalg.norm(w)))"
   ]
  },
  {
   "cell_type": "markdown",
   "id": "ea80ba6c-5124-4f0b-9d6c-fb25b63b06f6",
   "metadata": {},
   "source": [
    "<br><br>h. Find $d(\\textbf{u},\\textbf{v})$.<br>\n",
    "\\begin{align}\n",
    "||u - v|| = \\sqrt{(2-5)^2 + (-5+2)^2 + (4-1)^2 + (6+7)^2 + (-3 + 4)^2}\n",
    "       = \\sqrt{(-3) + (-3) + 3 + 13 + 1} = \\sqrt{197}\n",
    "\\end{align}"
   ]
  },
  {
   "cell_type": "code",
   "execution_count": 23,
   "id": "b0441271-bcac-4424-ae20-ec5448592370",
   "metadata": {},
   "outputs": [
    {
     "name": "stdout",
     "output_type": "stream",
     "text": [
      "d(u,v) =  14.035668847618199\n"
     ]
    }
   ],
   "source": [
    "u = np.array([2,-5,4,6,-3])\n",
    "v = np.array([5,-2,1, -7, -4]) \n",
    "w = np.array([2,1,-3, 0, 0])\n",
    "print(\"d(u,v) = \", np.linalg.norm(u-v))"
   ]
  },
  {
   "cell_type": "markdown",
   "id": "f7ec9cd5-929f-4b61-9cd3-05cc6c74c42f",
   "metadata": {},
   "source": [
    "<br><br>i. Find $d(\\textbf{w},\\textbf{v})$.<br>\n",
    "\\begin{align}\n",
    "= ||w - v||\n",
    "= \\sqrt{(2-5)^2 + (1+2)^2 + (-3-1)^2 + (0+7)^2 + (0+4)^2}\n",
    "= \\sqrt{(-3)^2 + (3)^2 + (-4)^2 + 7^2 + 4^2}\n",
    "= \\sqrt{9 + 9 + 16 + 49 + 16}\n",
    "= \\sqrt{99}\n",
    "\\end{align}"
   ]
  },
  {
   "cell_type": "code",
   "execution_count": 24,
   "id": "82db3e5e-b30c-4cd0-a33e-caae78b0dddd",
   "metadata": {},
   "outputs": [
    {
     "name": "stdout",
     "output_type": "stream",
     "text": [
      "(w,v):  9.9498743710662\n"
     ]
    }
   ],
   "source": [
    "u = np.array([2,-5,4,6,-3])\n",
    "v = np.array([5,-2,1, -7, -4]) \n",
    "w = np.array([2,1,-3, 0, 0])\n",
    "print(\"(w,v): \", np.linalg.norm(w-v))\n"
   ]
  },
  {
   "cell_type": "markdown",
   "id": "f83debf2-932f-4cf6-bf32-e00b8bbf79ca",
   "metadata": {},
   "source": [
    "<br><br>j. Find $d(\\textbf{u},\\textbf{w})$. <br>\n",
    "\\begin{align}\n",
    "= ||u - w||\n",
    "= \\sqrt{(2-2)^2 + (-5-1)^2 + (4+3)^2 + (6-0)^2 + (-3-0)^2}\n",
    "= \\sqrt{(0)^2 + (-6)^2 + (7)^2 + 6^2 + (-3)^2}\n",
    "= \\sqrt{0 + 36 + 49 + 36 + 9}\n",
    "= \\sqrt{130}\n",
    "\\end{align}"
   ]
  },
  {
   "cell_type": "code",
   "execution_count": 25,
   "id": "a3913803-cd68-4669-aec7-f6bf53ae075f",
   "metadata": {},
   "outputs": [
    {
     "name": "stdout",
     "output_type": "stream",
     "text": [
      " (u,w):  11.40175425099138\n"
     ]
    }
   ],
   "source": [
    "u = np.array([2,-5,4,6,-3])\n",
    "v = np.array([5,-2,1, -7, -4]) \n",
    "w = np.array([2,1,-3, 0, 0])\n",
    "print(\" (u,w): \", np.linalg.norm(u-w))"
   ]
  },
  {
   "cell_type": "markdown",
   "id": "6095bf59-382e-4e1b-a916-9af21efc89bc",
   "metadata": {},
   "source": [
    "<br><br>k. Find $proj(\\textbf{u},\\textbf{v})$.<br>\n",
    "\\begin{align}\n",
    "\\frac{u \\cdot v}{||v||^2}v = \\frac{-6}{(\\sqrt{95})^2}(5,-2,1, -7, -4) = \\left(\\frac{-30}{95}, \\frac{12}{95}, \\frac{-6}{95}, \\frac{42}{95}, \\frac{24}{95}\\right)\n",
    "\\end{align}\n",
    "\n",
    "}\n"
   ]
  },
  {
   "cell_type": "code",
   "execution_count": 26,
   "id": "9cf23baf-2bdc-4f9e-ae9c-cc590e900f90",
   "metadata": {},
   "outputs": [
    {
     "name": "stdout",
     "output_type": "stream",
     "text": [
      "proj(u,v) =  [-0.31578947  0.12631579 -0.06315789  0.44210526  0.25263158]\n"
     ]
    }
   ],
   "source": [
    "u = np.array([2,-5,4,6,-3])\n",
    "v = np.array([5,-2,1, -7, -4]) \n",
    "w = np.array([2,1,-3, 0, 0])\n",
    "\n",
    "print(\"proj(u,v) = \", u.dot(v) / (np.linalg.norm(v)**2)*v)\n"
   ]
  },
  {
   "cell_type": "markdown",
   "id": "ddfd7a76-0463-4807-9937-b2eb88c07670",
   "metadata": {},
   "source": [
    "<br><br>l. Find $proj(\\textbf{w},\\textbf{v})$.<br>\n",
    "\\begin{align}\n",
    "\\frac{w.v}{||v||^2} v \n",
    "w.v = 5\n",
    "||v|| =\\sqrt{95}\n",
    "\\frac{5}{95}(5,-2,1,-7,-4) \n",
    "(\\frac{25}{95}, \\frac{-10}{95}, \\frac{5}{95}, \\frac{-35}{95}, \\frac{-20}{95})\n",
    "\\end{align}"
   ]
  },
  {
   "cell_type": "code",
   "execution_count": 27,
   "id": "a0d3a903-1930-4f41-b2fc-ecf5a6ad7424",
   "metadata": {},
   "outputs": [
    {
     "name": "stdout",
     "output_type": "stream",
     "text": [
      "proj(w,v):  [ 0.26315789 -0.10526316  0.05263158 -0.36842105 -0.21052632]\n"
     ]
    }
   ],
   "source": [
    "u = np.array([2,-5,4,6,-3])\n",
    "v = np.array([5,-2,1, -7, -4]) \n",
    "w = np.array([2,1,-3, 0, 0])\n",
    "print(\"proj(w,v): \", w.dot(v) / (np.linalg.norm(v)**2)*v )\n"
   ]
  },
  {
   "cell_type": "markdown",
   "id": "e379d582-cc58-49b7-80fe-c4f30ff1befa",
   "metadata": {},
   "source": [
    "<br><br>m. Find $proj(\\textbf{u},\\textbf{w})$. <br> \n",
    "\\begin{align}\n",
    "\\frac{u.w}{||w||^2} w \n",
    "u.w = -13\n",
    "||w|| =\\sqrt{14}\n",
    "\\frac{-13}{14}(2,1,-3) \n",
    "(\\frac{-26}{14}, \\frac{-13}{14}, \\frac{39}{14})\n",
    "\\end{align}"
   ]
  },
  {
   "cell_type": "code",
   "execution_count": 28,
   "id": "c6548a3d-1c1a-45b2-b298-2a35b5c690f9",
   "metadata": {},
   "outputs": [
    {
     "name": "stdout",
     "output_type": "stream",
     "text": [
      " proj(u,w):  [-1.85714286 -0.92857143  2.78571429 -0.         -0.        ]\n"
     ]
    }
   ],
   "source": [
    "u = np.array([2,-5,4,6,-3])\n",
    "v = np.array([5,-2,1, -7, -4]) \n",
    "w = np.array([2,1,-3, 0, 0])\n",
    "\n",
    "print(\" proj(u,w): \", u.dot(w) / (np.linalg.norm(w)**2)*w )"
   ]
  },
  {
   "cell_type": "markdown",
   "id": "d7fd1aee-a6e3-4630-a60d-01d86e61bd7d",
   "metadata": {},
   "source": [
    "<br>\n",
    "<br>\n",
    "4. Normalize each vector:<br>\n",
    "a. $\\textbf{u}$ = (5,-7).<br>\n",
    "b. $\\textbf{v}$ = (1,2,-2,4).<br>\n",
    "c. $\\textbf{w} = (\\frac{1}{2},\\frac{-1}{3},\\frac{3}{4})$.<br>"
   ]
  },
  {
   "cell_type": "markdown",
   "id": "5623e80a-fdeb-4d55-a896-82a1f2b3a39e",
   "metadata": {},
   "source": [
    "A.) $\\textbf{u'}$ <br>\n",
    "    \\begin{align}\n",
    "        Find ||u|| = \\sqrt{u \\cdot u} = \\sqrt{5(5) + (-7)^2} = \\sqrt{25 + 49} = \\sqrt{74} \\\\\n",
    "        \\textbf{u'} = \\frac{u}{||u||} = (\\frac{5}{\\sqrt{74}}, \\frac{-7}{\\sqrt{74}})\n",
    "        \\end{align}"
   ]
  },
  {
   "cell_type": "code",
   "execution_count": 35,
   "id": "0cc69a95-8258-4795-8d33-828deb687421",
   "metadata": {},
   "outputs": [
    {
     "name": "stdout",
     "output_type": "stream",
     "text": [
      " u' =  [ 0.58123819 -0.81373347]\n"
     ]
    }
   ],
   "source": [
    "u = np.array([5, -7])\n",
    "v = np.array([1,2,-2,4])\n",
    "w = np.array([1/2, -1/3, 3/5])\n",
    "print(\" u' = \", u/np.linalg.norm(u))"
   ]
  },
  {
   "cell_type": "markdown",
   "id": "eb141ffb-3d5d-4764-aed4-3a80a9a418b2",
   "metadata": {},
   "source": [
    "<br><br>\n",
    "B.) $\\textbf{v'}$ <br>\n",
    "\\begin{align}\n",
    "||v|| &= \\sqrt{v \\cdot v} = \\sqrt{1(1) + (2)^2 + (-2)^2 + 4(4)} = \\sqrt{1 + 4 + 4 + 16} = \\sqrt{25} = 5 \\\\\n",
    "\\textbf{v'} &= \\frac{v}{||v||} = \\left(\\frac{1}{5}, \\frac{2}{5}, \\frac{-2}{5}, \\frac{4}{5}\\right)\n",
    "\\end{align}\n"
   ]
  },
  {
   "cell_type": "code",
   "execution_count": 33,
   "id": "f47900dc-05df-473a-8091-3f9708ef131b",
   "metadata": {},
   "outputs": [
    {
     "name": "stdout",
     "output_type": "stream",
     "text": [
      "v' =  [ 0.2  0.4 -0.4  0.8]\n"
     ]
    }
   ],
   "source": [
    "u = np.array([5, -7])\n",
    "v = np.array([1,2,-2,4])\n",
    "w = np.array([1/2, -1/3, 3/5])\n",
    "print(\"v' = \", v/np.linalg.norm(v))\n"
   ]
  },
  {
   "cell_type": "markdown",
   "id": "5489fb99-ed6b-4439-bff7-d55f7e9d72c4",
   "metadata": {},
   "source": [
    "<br><br>\n",
    " $\\textbf{w'}$ <br>\n",
    "\\begin{align}\n",
    "||w|| &= \\sqrt{w \\cdot w} = \\sqrt{\\left(\\frac{1}{2}\\right)^2 + \\left(\\frac{-1}{3}\\right)^2 + \\left(\\frac{3}{5}\\right)^2} \\\\\n",
    "&= \\sqrt{\\frac{1}{4} + \\frac{1}{9} + \\frac{9}{25}} \\\\\n",
    "&= \\sqrt{\\frac{25}{100} + \\frac{44}{900} + \\frac{324}{900}} \\\\\n",
    "&= \\sqrt{\\frac{225}{900} + \\frac{44}{900} + \\frac{324}{900}} \\\\\n",
    "&= \\sqrt{\\frac{593}{900}} \\\\\n",
    "&= \\frac{\\sqrt{593}}{30}\\\\\n",
    "\\textbf{w'} &= \\frac{w}{||w||} = \\left(\\frac{30}{2\\sqrt{593}}, \\frac{-30}{3\\sqrt{593}}, \\frac{90}{5\\sqrt{593}}\\right) \n",
    "\\end{align}\n"
   ]
  },
  {
   "cell_type": "code",
   "execution_count": 34,
   "id": "d07ee11e-9973-472e-8f89-1d64d985ab69",
   "metadata": {},
   "outputs": [
    {
     "name": "stdout",
     "output_type": "stream",
     "text": [
      " w' =  [ 0.5888015  -0.39253434  0.7065618 ]\n"
     ]
    }
   ],
   "source": [
    "u = np.array([5, -7])\n",
    "v = np.array([1,2,-2,4])\n",
    "w = np.array([1/2, -1/3, 3/5])\n",
    "print(\" w' = \", w/np.linalg.norm(w))"
   ]
  },
  {
   "cell_type": "markdown",
   "id": "64d729a0-b218-44b1-baea-a65756670e55",
   "metadata": {},
   "source": [
    "<br><br>5. Let $\\textbf{u} = (1,2,-2)$,$\\textbf{v} = (3,-12,4)$ and a scalar $k = -3$: <br>\n",
    "Find $||u||, ||v||, ||u+v||, ||ku||$.<br>\n",
    "<br>\n",
    "<br>"
   ]
  },
  {
   "cell_type": "markdown",
   "id": "1ae20590-cb96-450e-b5d0-c7b36a708009",
   "metadata": {},
   "source": [
    "  <br><br>\n",
    "\\begin{align}\n",
    " ||u|| = \\sqrt{u \\cdot u} = \\sqrt{1^2 + 2^2 + (-2)^2} = \\sqrt{1 + 4 + 4} = \\sqrt{9} = 3 \n",
    " \\end{align} "
   ]
  },
  {
   "cell_type": "code",
   "execution_count": 41,
   "id": "429cf1cb-328a-4e18-9784-6ee1f6a45784",
   "metadata": {},
   "outputs": [
    {
     "name": "stdout",
     "output_type": "stream",
     "text": [
      "||u|| =  3.0\n"
     ]
    }
   ],
   "source": [
    "u = ([1,2,-2])\n",
    "v = ([3,-12,4])\n",
    "k = -3\n",
    "\n",
    "print(\"||u|| = \", np.linalg.norm(u))"
   ]
  },
  {
   "cell_type": "markdown",
   "id": "57cc4dde-2528-4995-90b0-a3896f9641f0",
   "metadata": {},
   "source": [
    "<br><br>\\begin{align}  ||v|| = \\sqrt{v \\cdot v} = \\sqrt{3^2 + (-12)^2 + 4^2} = \\sqrt{9 + 144 + 16} = \\sqrt{169} = 13 \n",
    "\\end{align} "
   ]
  },
  {
   "cell_type": "code",
   "execution_count": 39,
   "id": "133015a7-3825-4595-8662-18da546a03ef",
   "metadata": {},
   "outputs": [
    {
     "name": "stdout",
     "output_type": "stream",
     "text": [
      "||v|| =  13.0\n"
     ]
    }
   ],
   "source": [
    "u = ([1,2,-2])\n",
    "v = ([3,-12,4])\n",
    "k = -3\n",
    "\n",
    "print(\"||v|| = \", np.linalg.norm(v))"
   ]
  },
  {
   "cell_type": "markdown",
   "id": "59c73368-6d82-4944-abbf-1b25e020be04",
   "metadata": {},
   "source": [
    "  <br><br> \\begin{align}  ||u+v|| = \\sqrt{(u+v)^2} = \\sqrt{(1+3)^2 + (2+(-12))^2 + (-2+4)^2} = \\sqrt{16 + 100 + 4} = \\sqrt{120} \\end{align} "
   ]
  },
  {
   "cell_type": "code",
   "execution_count": 38,
   "id": "03bb2861-5e0a-4458-9cd7-aaadefad8352",
   "metadata": {},
   "outputs": [
    {
     "name": "stdout",
     "output_type": "stream",
     "text": [
      "||u+v|| =  13.341664064126334\n"
     ]
    }
   ],
   "source": [
    "u = ([1,2,-2])\n",
    "v = ([3,-12,4])\n",
    "k = -3\n",
    "print(\"||u+v|| = \", np.linalg.norm(u+v))"
   ]
  },
  {
   "cell_type": "markdown",
   "id": "380d8918-30ed-478e-8a81-ddf0a0ce457f",
   "metadata": {},
   "source": [
    "<br> <br> \\begin{align} ||*k*u|| = \\sqrt{(k \\cdot u)^2} = \\sqrt{(1(-3))^2 + (2(-3))^2 + (-2(-3))^2} = \\sqrt{9 + 36 + 36} = \\sqrt{81} = 9 \\end{align} "
   ]
  },
  {
   "cell_type": "code",
   "execution_count": 37,
   "id": "0cc7b011-3497-41ee-a991-e23a271fcbce",
   "metadata": {},
   "outputs": [
    {
     "name": "stdout",
     "output_type": "stream",
     "text": [
      "||ku|| =  -9.0\n"
     ]
    }
   ],
   "source": [
    "u = ([1,2,-2])\n",
    "v = ([3,-12,4])\n",
    "k = -3\n",
    "\n",
    "print(\"||ku|| = \", np.linalg.norm(u)*k)"
   ]
  },
  {
   "cell_type": "markdown",
   "id": "57b636f2-5850-4ca7-a46f-4bb3bfd8853a",
   "metadata": {},
   "source": [
    "6. Find k so that $\\textbf{u}  \\ and \\  \\textbf{v}$ are orthogonal.<br>\n",
    "a. $\\textbf{u} = (3, k, -2), \\textbf{v} = (6, -4, -3)$.<br>\n",
    "b. $\\textbf{u} = (5,k,-4,2), \\textbf{v} = (1,-3,2,2k)$.<br>\n",
    "c. $\\textbf{u} = (1,7,k+2,-2), \\textbf{v} = (3, k, -3,k)$.<br>"
   ]
  },
  {
   "cell_type": "markdown",
   "id": "ecdfb1a3-3242-4d8a-92e5-37d50c8fbfd8",
   "metadata": {},
   "source": [
    "<br><br> \\begin{align}\n",
    "u = (3, k, -2) v = (6, -4, -3) \\\\\n",
    "      = 3(6) -4k + (-2)(-3) = 18 - 4k + 6 \\\\\n",
    "      4k = 24 ; k = 6\n",
    "\\end{align}"
   ]
  },
  {
   "cell_type": "code",
   "execution_count": 43,
   "id": "2d306e94-d896-476d-9174-38a7fedfc813",
   "metadata": {},
   "outputs": [
    {
     "name": "stdout",
     "output_type": "stream",
     "text": [
      "a.  0\n",
      "So k is 6\n"
     ]
    }
   ],
   "source": [
    "u = np.array([3, 6, -2])\n",
    "v = np.array([6, -4, -3])\n",
    "print(\"a. \", u.dot(v))\n",
    "print(\"So k is 6\")"
   ]
  },
  {
   "cell_type": "markdown",
   "id": "ef8c87ce-b612-4f8f-97d0-7241000442d8",
   "metadata": {},
   "source": [
    "<br><br>\\begin{align}\n",
    "= (5, k, -4, 2) v = (1, -3, 2, 2k) \\\\\n",
    "     = 5 - 3k - 8 + 4k = k - 3 ; k = 3\n",
    "     \\end{align}"
   ]
  },
  {
   "cell_type": "code",
   "execution_count": 44,
   "id": "19df7f52-d07e-45a7-b118-09a550c932ae",
   "metadata": {},
   "outputs": [
    {
     "name": "stdout",
     "output_type": "stream",
     "text": [
      "b.  0\n",
      "So k is 3\n"
     ]
    }
   ],
   "source": [
    "u = np.array([5, 3, -4, 2])\n",
    "v = np.array([1, -3, 2, 6])\n",
    "print(\"b. \", u.dot(v))\n",
    "print(\"So k is 3\")"
   ]
  },
  {
   "cell_type": "markdown",
   "id": "f462a5de-0ccf-4bcc-92b2-68c21cd094c0",
   "metadata": {},
   "source": [
    "<br><br>\n",
    "\\begin{align}\n",
    "(1, 7, k+2, -2) v = (3, k, -3, k) \\\\\n",
    "     = 3 + 7k -3k - 6 - 2k = 2k - 3 ; k = 3/2\n",
    "\\end{align}"
   ]
  },
  {
   "cell_type": "code",
   "execution_count": 46,
   "id": "0be53017-ca60-494f-a5c2-28aea8cd8766",
   "metadata": {},
   "outputs": [
    {
     "name": "stdout",
     "output_type": "stream",
     "text": [
      "a.  0.0\n",
      "So k is 3/2\n"
     ]
    }
   ],
   "source": [
    "u = np.array([1, 7, 7/2, -2])\n",
    "v = np.array([3, 3/2, -3, 3/2])\n",
    "print(\"a. \", u.dot(v))\n",
    "print(\"So k is 3/2\")"
   ]
  }
 ],
 "metadata": {
  "kernelspec": {
   "display_name": "Python 3 (ipykernel)",
   "language": "python",
   "name": "python3"
  },
  "language_info": {
   "codemirror_mode": {
    "name": "ipython",
    "version": 3
   },
   "file_extension": ".py",
   "mimetype": "text/x-python",
   "name": "python",
   "nbconvert_exporter": "python",
   "pygments_lexer": "ipython3",
   "version": "3.11.4"
  }
 },
 "nbformat": 4,
 "nbformat_minor": 5
}
