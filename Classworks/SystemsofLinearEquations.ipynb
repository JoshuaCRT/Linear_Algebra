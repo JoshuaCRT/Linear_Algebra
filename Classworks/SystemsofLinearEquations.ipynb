{
 "cells": [
  {
   "cell_type": "markdown",
   "id": "a35dcb58-cd6a-4b84-afe5-6b0d4cf32df3",
   "metadata": {},
   "source": [
    "**Name:** Joshua C. Rodriguez\n",
    "                                                        **ID:** 21100556"
   ]
  },
  {
   "cell_type": "markdown",
   "id": "15a4cb6d-9011-4675-bbdc-e2ec68831665",
   "metadata": {},
   "source": [
    "# <font color = blue> ASSIGNMENT 1</font>\n",
    "- To complete the process of determining the solution, create a function or steps of function that will automate backward substitution."
   ]
  },
  {
   "cell_type": "code",
   "execution_count": 18,
   "id": "61740147-c2bc-4296-8c09-eb4577131d9f",
   "metadata": {},
   "outputs": [
    {
     "name": "stdout",
     "output_type": "stream",
     "text": [
      "A1\n",
      "[[ 1. -1.  1.  3.]\n",
      " [ 0.  3.  6. 12.]\n",
      " [ 4.  2. -3. -2.]] \n",
      "\n",
      "A2\n",
      "[[  1.  -1.   1.   3.]\n",
      " [  0.   3.   6.  12.]\n",
      " [  0.   6.  -7. -14.]] \n",
      "\n",
      "A3\n",
      "[[  1.  -1.   1.   3.]\n",
      " [  0.   3.   6.  12.]\n",
      " [  0.   0. -19. -38.]] \n",
      "\n",
      "A4\n",
      "[[  1.  -1.   1.   3.]\n",
      " [  0.   1.   2.   4.]\n",
      " [  0.   0. -19. -38.]] \n",
      "\n",
      "A5\n",
      "[[ 1. -1.  1.  3.]\n",
      " [ 0.  1.  2.  4.]\n",
      " [-0. -0.  1.  2.]] \n",
      "\n",
      "a1 = 1.0\n",
      "a2 = 0.0\n",
      "a3 = 2.0\n"
     ]
    }
   ],
   "source": [
    "import numpy as np\n",
    "\n",
    "def row_swap(A, k, l):\n",
    "    \n",
    "    B = np.copy(A).astype('float64')\n",
    "    B[[k, l], :] = B[[l, k], :]\n",
    "    return B\n",
    "\n",
    "def row_scale(A, k, scale):\n",
    "   \n",
    "    B = np.copy(A).astype('float64')\n",
    "    B[k, :] *= scale\n",
    "    return B\n",
    "\n",
    "def row_add(A, k, l, scale):\n",
    "   \n",
    "    B = np.copy(A).astype('float64')\n",
    "    B[l, :] += B[k, :] * scale\n",
    "    return B\n",
    "\n",
    "\n",
    "def backward_substitution(U,y):\n",
    "    \"\"\"\n",
    "    Performs backward substitution.\n",
    "\n",
    "    Args:\n",
    "        U: A numpy array of shape (n, n). It should be the U from the \n",
    "            QR factorization.\n",
    "        y: A numpy array of shape (n,). It should be the output vector from the\n",
    "            QR factorization.\n",
    "\n",
    "    Returns:\n",
    "        A numpy array of shape (n,) that is the solution to the linear system.\n",
    "    \"\"\"\n",
    "    n = U.shape[0]\n",
    "    x = np.zeros(n)\n",
    "\n",
    "    # Perform backward substitution\n",
    "    for i in range(n-1, -1, -1):\n",
    "        x[i] = (y[i] - np.dot(U[i, i+1:], x[i+1:])) / U[i, i]\n",
    "\n",
    "    return x\n",
    "\n",
    "A = np.array([[1, -1, 1, 3], [2, 1, 8, 18], [4, 2, -3, -2]])\n",
    "\n",
    "A1 = row_add(A, 0, 1, -2)\n",
    "print(\"A1\")\n",
    "print(A1, '\\n')\n",
    "\n",
    "A2 = row_add(A1, 0, 2, -4)\n",
    "print(\"A2\")\n",
    "print(A2, '\\n')\n",
    "\n",
    "A3 = row_add(A2, 1, 2, -2)\n",
    "print(\"A3\")\n",
    "print(A3, '\\n')\n",
    "\n",
    "A4 = row_scale(A3, 1, 1.0/3)\n",
    "print(\"A4\")\n",
    "print(A4, '\\n')\n",
    "\n",
    "A5 = row_scale(A4, 2, 1.0/-19.)\n",
    "print(\"A5\")\n",
    "print(A5, '\\n')\n",
    "\n",
    "# Use the backward substitution to find the solutions\n",
    "solutions = backward_substitution(A5[:, :-1], A5[:, -1])\n",
    "# Print the solutions\n",
    "for i, sol in enumerate(solutions):\n",
    "    print(f\"a{i + 1} = {sol}\")\n"
   ]
  },
  {
   "cell_type": "markdown",
   "id": "281acdb2-1084-4b2c-96c6-e3f2f73d88f6",
   "metadata": {},
   "source": [
    "# <font color = blue> Assignment 2 </font>\n",
    "---"
   ]
  },
  {
   "cell_type": "markdown",
   "id": "7ee72d99-0c10-4df6-b3f4-eed9c4d53ab1",
   "metadata": {},
   "source": [
    "### 1. Provide reasons why each of the following equations is, or is not, a linear equation.\n",
    "\n",
    "- $\\cos{\\theta}x+4y+z = \\sqrt{3}$ <br><br>This equation is non-linear due to the presence of the trigonometric term cos(x) and the non-homogeneous term 4y, both of which violate the conditions for linearity.\n",
    "- $cos{x}4y+z = \\sqrt{3}$ <br><br> Not a linear equation because The nonlinearity rises from the existence of the cosine function and the multiplication of y by 4.\n",
    "- $x^{-1}+7y+z = \\sin{(\\frac{\\pi}{2})}$ <br><br> Not a linear equation because the presence of $x^{-1}$ and the sine function goes against the conditions of linearity.\n",
    "- $x^1+y^1+z^1=0$ <br><br> Considered a  linear equation because this equation is linear because the variables are raised to the first power, and the coefficients are all 1.\n"
   ]
  },
  {
   "cell_type": "markdown",
   "id": "0bc5a754-4c11-4e90-a966-f1e4278f8efc",
   "metadata": {},
   "source": [
    "### 2.Find the solutions to the linear equations:\r\n",
    "\n",
    "\n",
    "<br>\n",
    "$2x_1+3x_2 =5$<br> <br>\n",
    "$2x_1 = 5 - 3x_2$<br>\n",
    "$x_1 = \\frac{5}{2} - \\frac{3}{2}x_2$ <br>\n",
    "$x_2 = \\frac{5}{3} - \\frac{2}{3}x_1$ <br><br><br>\n",
    "\n",
    "$4x_1 + 3x_2 + 2x_3 = 1$<br><br>\n",
    "$x_1 = \\frac{1}{4} - \\frac{3}{4}x_2 - \\frac{1}{2}x_3$<br>\n",
    "$x_2 = \\frac{1}{3} - \\frac{4}{3}x_1 - \\frac{2}{3}x_3$<br>\n",
    "$x_3 = \\frac{1}{2} - \\frac{3}{2}x_2 - 2x_1$<br><br><br>\n",
    "\n",
    "$3x - 6y = 0$<br><br>\n",
    "$3x = 6y$<br>\n",
    "$x = 2y$<br>\n",
    "$\\frac{1}{2}x = y$\n",
    "\n",
    "\n",
    "   "
   ]
  },
  {
   "cell_type": "markdown",
   "id": "8c3b168d-edb1-40bb-90a4-c8f3090117b2",
   "metadata": {},
   "source": [
    "### 3. Solve the following systems of linear equations\n"
   ]
  },
  {
   "cell_type": "markdown",
   "id": "62715ca3-8748-44ca-a8eb-b07891dd692d",
   "metadata": {},
   "source": [
    "$ x - y = 0 $<br>$ 2x + y = 3$\n",
    " <br>\n",
    "\n",
    "- $-2(x - y = 0)$\n",
    "- $-2x + 2y = 0$\n",
    "\n",
    "<br>\n",
    "\n",
    "- $\\frac{3y}{3} = \\frac{3}{3}$\n",
    "- $y = 1$\n",
    "\n",
    "<br>\n",
    "\n",
    "- $x - 1 = 0$\n",
    "- $x = 1$\n",
    "\n",
    "<br>\n",
    "\n",
    "- $x = 1, \\ y = 1$"
   ]
  },
  {
   "cell_type": "code",
   "execution_count": 17,
   "id": "32611e55-b810-49de-a387-094c72056c58",
   "metadata": {},
   "outputs": [
    {
     "name": "stdout",
     "output_type": "stream",
     "text": [
      "Solution:\n",
      " x = 1.0 \n",
      " y = 1.0\n"
     ]
    }
   ],
   "source": [
    "#Check using pythonic solution\n",
    "import numpy as np\n",
    "\n",
    "A, b = np.array([[1, -1], [2, 1]]), np.array([0, 3])\n",
    "solution = np.linalg.solve(A, b)\n",
    "\n",
    "print(\"Solution:\\n\", \"x =\", solution[0], \"\\n\", \"y =\", solution[1])"
   ]
  },
  {
   "cell_type": "markdown",
   "id": "68b5140e-72da-42b3-9c40-88a483e47c2e",
   "metadata": {},
   "source": [
    "$x + 5y = -1$<br>$-x + y = -5$<br>$ 2x + 4y = 4$ <br><br>"
   ]
  },
  {
   "cell_type": "markdown",
   "id": "a76c0cb2-88f8-4ec2-b4d1-bd0a3387e661",
   "metadata": {},
   "source": [
    "\n",
    "$\n",
    "\\begin{pmatrix}\n",
    "    1 & 5 &\\bigm| & -1 \\\\\n",
    "    -1 & 1 &\\bigm| & -5 \\\\\n",
    "    2 & 4 &\\bigm| & 4 \\\\\n",
    "\\end{pmatrix}\n",
    "\\xrightarrow[\\text{R}_{3} - 2\\text{R}_{1}]{\\text{R}_{2} + \\text{R}_{1}}\n",
    "\\begin{pmatrix}\n",
    "    1 & 5 &\\bigm| & -1 \\\\\n",
    "    0 & 6 &\\bigm| & -6 \\\\\n",
    "    0 & -6 &\\bigm| & 6 \\\\\n",
    "\\end{pmatrix}\n",
    "\\xrightarrow[\\text{R}_{3}(\\frac{1}{6})]{\\text{R}_{2}(\\frac{1}{6})}\n",
    "\\begin{pmatrix}\n",
    "    1 & 5 &\\bigm| & -1 \\\\\n",
    "    0 & 1 &\\bigm| & -1 \\\\\n",
    "    0 & -1 &\\bigm| & 1 \\\\\n",
    "\\end{pmatrix}\n",
    "\\xrightarrow[\\text{R}_{3} + \\text{R}_{2}]{}\n",
    "\\begin{pmatrix}\n",
    "    1 & 5 &\\bigm| & -1 \\\\\n",
    "    0 & 1 &\\bigm| & -1 \\\\\n",
    "    0 & 0 &\\bigm| & 0 \\\\\n",
    "\\end{pmatrix}\n",
    "% \\xrightarrow[\\text{R}_{1} - 5\\text{R}_{2}]{}\n",
    "% \\begin{pmatrix}\n",
    "%     1 & 0 &\\bigm| & 4 \\\\\n",
    "%     0 & 1 &\\bigm| & -1 \\\\\n",
    "%     0 & 0 &\\bigm| & 0 \\\\\n",
    "% \\end{pmatrix}\n",
    "$ \n",
    "<br><br> \n",
    "        - y = -1\n",
    "<br>\n",
    "        - x + 5(-1) = -1\n",
    "        - x + -5 = -1\n",
    "        - x = 5 + (-1)\n",
    "        - x = 4\n",
    "        - $x = 4, \\ y = -1$"
   ]
  },
  {
   "cell_type": "code",
   "execution_count": 13,
   "id": "775aa6e5-0e17-4c88-857a-ea1c1a0410ab",
   "metadata": {},
   "outputs": [
    {
     "name": "stdout",
     "output_type": "stream",
     "text": [
      "Solution:\n",
      " x = 4.000000000000001 \n",
      " y = -0.9999999999999998\n"
     ]
    }
   ],
   "source": [
    "import numpy as np\n",
    "\n",
    "coeff_matrix, constants = np.array([[1, 5], [-1, 1], [2, 4]]), np.array([-1, -5, 4])\n",
    "solution = np.linalg.lstsq(coeff_matrix, constants, rcond=None)[0]\n",
    "\n",
    "print(\"Solution:\\n\", \"x =\", solution[0], \"\\n\", \"y =\", solution[1])\n"
   ]
  },
  {
   "cell_type": "markdown",
   "id": "d42b2f96-4fe0-4a79-b51b-441f10dc7895",
   "metadata": {},
   "source": [
    "- $2x_1 + 3x_2 - x_3 = -1 $ <br>$ x_1 + x_3 = 0$ <br> $ -x_1 + 2x_2 - 2x_3  = 0$ <br><br>\n",
    "$$\n",
    "\\begin{pmatrix}\n",
    "     2 &  3 & -1 &\\bigm| & -1 \\\\\n",
    "     1 &  0 &  1 &\\bigm| &  0 \\\\\n",
    "    -1 &  2 & -2 &\\bigm| &  0 \\\\\n",
    "\\end{pmatrix}\n",
    "$$"
   ]
  },
  {
   "cell_type": "markdown",
   "id": "f971ad8c-28e2-449d-985f-f1a771fc6e97",
   "metadata": {},
   "source": [
    "\n",
    "\\begin{equation}\n",
    "\\begin{pmatrix}\n",
    "    2 & 3 & -1 & \\bigm| & -1 \\\\\n",
    "    1 & 0 & 1 & \\bigm| & 0 \\\\\n",
    "    -1 & 2 & -2 & \\bigm| & 0 \\\\\n",
    "\\end{pmatrix}\n",
    "\\end{equation}\n",
    "\n",
    "\\begin{equation}\n",
    "\\begin{pmatrix}\n",
    "0 & 3 & -3 & \\bigm| & -1 \\\\\n",
    "1 & 0 & 1 & \\bigm| & 0 \\\\\n",
    "-1 & 2 & -2 & \\bigm| & 0 \\\\\n",
    "\\end{pmatrix}\n",
    "\\end{equation}\n",
    "\n",
    "\\begin{equation}\n",
    "\\begin{pmatrix}\n",
    "0 & 3 & -3 & \\bigm| & -1 \\\\\n",
    "1 & 0 & 1 & \\bigm| & 0 \\\\\n",
    "0 & 2 & -1 & \\bigm| & 0 \\\\\n",
    "\\end{pmatrix}\n",
    "\\end{equation}\n",
    "\n",
    "\\begin{equation}\n",
    "\\begin{pmatrix}\n",
    "0 & 1 & -2 & \\bigm| & -1 \\\\\n",
    "1 & 0 & 1 & \\bigm| & 0 \\\\\n",
    "0 & 2 & -1 & \\bigm| & 0 \\\\\n",
    "\\end{pmatrix}\n",
    "\\end{equation}\n",
    "\n",
    "\\begin{equation}\n",
    "\\begin{pmatrix}\n",
    "0 & 1 & -2 & \\bigm| & -1 \\\\\n",
    "1 & 0 & 1 & \\bigm| & 0 \\\\\n",
    "0 & 0 & 3 & \\bigm| & 2 \\\\\n",
    "\\end{pmatrix}\n",
    "\\end{equation}\n",
    "\n",
    "\\begin{equation}\n",
    "\\begin{pmatrix}\n",
    "0 & 1 & -2 & \\bigm| & -1 \\\\\n",
    "1 & 0 & 1 & \\bigm| & 0 \\\\\n",
    "0 & 0 & 1 & \\bigm| & \\frac{2}{3} \\\\\n",
    "\\end{pmatrix}\n",
    "\\end{equation}\n",
    "\n",
    "\\begin{equation}\n",
    "\\begin{pmatrix}\n",
    "1 & 0 & 1 & \\bigm| & 0 \\\\\n",
    "0 & 1 & -2 & \\bigm| & -1 \\\\\n",
    "0 & 0 & 1 & \\bigm| & \\frac{2}{3} \\\\\n",
    "\\end{pmatrix}\n",
    "\\end{equation}"
   ]
  },
  {
   "cell_type": "markdown",
   "id": "642a7295-9e5e-4a29-9f5d-8e7fda34e864",
   "metadata": {},
   "source": [
    "\n",
    "\n",
    "$x_1 + x_3 = 0$<br>\n",
    "$x_2 - 2x_3 = -1$<br>\n",
    "$x_3 = \\frac{2}{3}$<br><br>\n",
    "\n",
    "$x_1 + \\frac{2}{3} = 0$<br>\n",
    "$x_1 = -\\frac{2}{3}$<br><br>\n",
    "\n",
    "$x_2 - 2(\\frac{2}{3}) = -1$<br>\n",
    "$x_2 - \\frac{4}{3} = -1$<br>\n",
    "$x_2 = -1 + \\frac{4}{3}$ <br>\n",
    "$x_2 = \\frac{1}{3}$<br>\n"
   ]
  },
  {
   "cell_type": "markdown",
   "id": "627ab336-0cbf-452a-86b7-84f0aa0322d8",
   "metadata": {},
   "source": [
    "### 4. Provide reasons why the given matrices are either a row echelon, a reduced row echelon, or niether both.\n"
   ]
  },
  {
   "cell_type": "markdown",
   "id": "a4b4b127-a095-4ac3-b350-d4ec69e73a6b",
   "metadata": {},
   "source": [
    "a. <br>\n",
    "\\begin{pmatrix}\n",
    "   1 & 0 & 1 \\\\\n",
    "   0 & 0 & 3 \\\\\n",
    "   0 & 1 & 0 \\\\\n",
    "\\end{pmatrix}<br><br>\n",
    "**Row Echelon Form**<br>\n",
    "This matrix meets the criteria for row echelon form. However, it does not satisfy the conditions for reduced row echelon form as the leading non-zero entry in the second row is not the only non-zero entry in its column."
   ]
  },
  {
   "cell_type": "markdown",
   "id": "9a41bb3b-a835-457c-a204-42608639c0d4",
   "metadata": {},
   "source": [
    "b. <br>\n",
    "\\begin{pmatrix}\n",
    "   7 & 0 & 1 & 0 \\\\\n",
    "   0 & 1 & -1 & 4 \\\\\n",
    "   0 & 0 & 0 & 0 \\\\\n",
    "\\end{pmatrix}<br><br>\n",
    "**Row Echelon Form**<br>\n",
    "The first non-zero entry in each row is to the right of the first non-zero element in the row above it.\r\n",
    "All zero rows are placed at the bottom.\r\n",
    "However, it does not satisfy the conditions for reduced row echelon form because\r\n",
    "\r\n",
    "The leading non-zero entries (7 and 1) are not the only non-zero entries in their respective columns.\n"
   ]
  },
  {
   "cell_type": "markdown",
   "id": "67c67ea7-7858-4a94-bda2-7a3717e657f2",
   "metadata": {},
   "source": [
    "c. <br>\n",
    "\\begin{pmatrix}\n",
    "   0 & 1 & 3 & 0 \\\\\n",
    "   0 & 0 & 0 & 1 \\\\\n",
    "\\end{pmatrix}<br><br>\n",
    "**Row Echelon Form**<br>\n",
    "The first non-zero entry in each row is to the right of the first non-zero element in the row above it.\r\n",
    "All zero rows are placed at the bottom.\r\n",
    "However, it does not satisfy the conditions for reduced row echelon form because:\r\n",
    "\r\n",
    "The leading non-zero entries (1 in the first row and 1 in the second row) are not the only non-zero entries in their respective columns."
   ]
  },
  {
   "cell_type": "markdown",
   "id": "11683743-5772-4607-a867-663df60457bc",
   "metadata": {},
   "source": [
    "d. <br>\n",
    "\\begin{pmatrix}\n",
    "   0 & 0 & 0 \\\\\n",
    "   0 & 0 & 0 \\\\\n",
    "   0 & 0 & 0 \\\\\n",
    "\\end{pmatrix}<br><br>\n",
    "**Neither in row echelon form nor in reduced row echelon form** <br>\n",
    "This matrix is neither in row echelon form nor in reduced row echelon form due to the absence of non-zero entries that would enable assessment against the criteria for these forms."
   ]
  },
  {
   "cell_type": "markdown",
   "id": "9264ea2d-b5cc-4949-a228-47ff7c8a3b5b",
   "metadata": {},
   "source": [
    "e. <br>\n",
    "\\begin{pmatrix}\n",
    "   1 & 0 & 3 & -4 & 0 \\\\\n",
    "   0 & 0 & 0 & 0 & 0 \\\\\n",
    "   0 & 1 & 5 & 0 & 1 \\\\\n",
    "\\end{pmatrix}<br><br>\n",
    "\n",
    "**Row Echelon Form**<br>\n",
    " The given matrix is in row echelon form but not in reduced row echelon form.\n",
    " The first non-zero entry in each row is to the right of the first non-zero element in the row above it.\r\n",
    "All zero rows are placed at the bottom.\r\n",
    "However, it does not satisfy the conditions for reduced row echelon form becau \r\n",
    "\r\n",
    "The leading non-zero entries (1 in the first row and 1 in the third row) are not the only non-zero entries in their respective columns.\r\n",
    "The leading entry in the third row (1) is not the only non-zero entry in its column.\r\n"
   ]
  },
  {
   "cell_type": "markdown",
   "id": "95bc38a7-748e-41ff-898b-397a5c1fdaa2",
   "metadata": {},
   "source": [
    "f. <br>\n",
    "\\begin{pmatrix}\n",
    "   0 & 0 & 1 \\\\\n",
    "   0 & 1 & 0 \\\\|\n",
    "   1 & 0 & 0 \\\\\n",
    "\\end{pmatrix}<br><br>\n",
    "\n",
    "**Reduced Row Echelon** <br>\n",
    "The first non-zero entry in each row is to the right of the first non-zero element in the row above it.\r\n",
    "Additionally, this matrix satisfies the conditions for reduced row echelon for. \n",
    "\r\n",
    "The leading non-zero entries (1 in each row) are the only non-zero entries in their respective columns."
   ]
  },
  {
   "cell_type": "markdown",
   "id": "51385bc7-220f-46d3-b362-f733f8ff282a",
   "metadata": {},
   "source": [
    "g. <br>\n",
    "\\begin{pmatrix}\n",
    "   1 & 2 & 3 \\\\\n",
    "   1 & 0 & 0 \\\\\n",
    "   0 & 1 & 1 \\\\\n",
    "   0 & 0 & 1 \\\\\n",
    "\\end{pmatrix}<br><br>\n",
    "\n",
    "**Not in Row Echelon Form and as well as Reduced Row Echelon Form**<br>\n",
    "1.) It does not satisfy the conditions "
   ]
  },
  {
   "cell_type": "markdown",
   "id": "9bac7cf6-217f-4197-b96b-6ae433371f0a",
   "metadata": {},
   "source": [
    "h. <br>\n",
    "\\begin{pmatrix}\n",
    "   2 & 1 & 3 & 5 \\\\\n",
    "   0 & 0 & 1 & -1 \\\\\n",
    "   0 & 0 & 0 & 3 \\\\\n",
    "   0 & 0 & 0 & 0 \\\\\n",
    "\\end{pmatrix}\n",
    "\n",
    "**Row Echelon Form**<br>\n",
    "\n",
    "The given matrix is in row echelon form but not in reduced row echelon form.This matrix satisfies the criteria for row echelon form:\n",
    "\n",
    "The first non-zero entry in each row is to the right of the first non-zero element in the row above it.\n",
    "All zero rows are placed at the bottom.\n",
    "However, it does not satisfy the conditions for reduced row echelon form because the leading non-zero entries (2, 1, and 3) are not the only non-zero entries in their respective columns."
   ]
  },
  {
   "cell_type": "markdown",
   "id": "034281d3-0007-417c-8bdd-ba87c0b35490",
   "metadata": {},
   "source": [
    "### 5. Solve the equations"
   ]
  },
  {
   "cell_type": "markdown",
   "id": "03411884-0941-4e50-bb3f-dafa721341f9",
   "metadata": {},
   "source": [
    "$$\n",
    "\\begin{align}\n",
    "    x_1 + 2x_2 - 3x_3 = 9 \\\\\n",
    "    2x_1 - x_2 - x_3 = 0 \\\\\n",
    "    4x_1 - x_2 + x_3 = 4 \\\\\n",
    "\\end{align}\n",
    "$$"
   ]
  },
  {
   "cell_type": "code",
   "execution_count": 27,
   "id": "d4ea0805-05c2-48e2-ba6f-b4a995d62565",
   "metadata": {},
   "outputs": [
    {
     "name": "stdout",
     "output_type": "stream",
     "text": [
      "x1 = 1.9\n",
      "x2 = 3.6999999999999997\n",
      "x3 = 0.10000000000000003\n"
     ]
    }
   ],
   "source": [
    "import numpy as np\n",
    "\n",
    "A = np.array([[1, 2, -3],\n",
    "              [2, -1, -1],\n",
    "              [4, -1, 1]])\n",
    "\n",
    "b = np.array([9, 0, 4])\n",
    "\n",
    "solution = np.linalg.solve(A, b)\n",
    "\n",
    "for i, x in enumerate(solution, start=1):\n",
    "    print(f\"x{i} = {x}\")\n"
   ]
  },
  {
   "cell_type": "markdown",
   "id": "3e5179e2-e9bb-42d4-a5bf-d9dd45b76954",
   "metadata": {},
   "source": [
    "$$\n",
    "\\begin{align}\n",
    "    x + 2y= -1 \\\\\n",
    "    2x + y + z = 1 \\\\\n",
    "    -x + y - z = -1\n",
    "\\end{align}\n",
    "$$\n"
   ]
  },
  {
   "cell_type": "code",
   "execution_count": 28,
   "id": "44549d36-72a9-41cd-9f2e-2c037d0aa159",
   "metadata": {},
   "outputs": [
    {
     "name": "stdout",
     "output_type": "stream",
     "text": [
      "No solution\n"
     ]
    }
   ],
   "source": [
    "import numpy as np\n",
    "\n",
    "M = np.array([[1, 2, 0],\n",
    "              [2, 1, 1],\n",
    "              [-1, 1, -1]])\n",
    "\n",
    "if np.linalg.det(M) == 0:\n",
    "    print(\"No solution\")\n",
    "else:\n",
    "    print(\"Determinant of M:\", np.linalg.det(M))\n"
   ]
  },
  {
   "cell_type": "markdown",
   "id": "d0f9599b-096d-4e94-9916-8636b101bc8f",
   "metadata": {},
   "source": [
    "$$\n",
    "\\begin{align}\n",
    "    w + x + 2y + z = 1 \\\\\n",
    "    w - x - y + z = 0 \\\\\n",
    "    x + y = 1 \\\\\n",
    "    w + x + z = 2\n",
    "\\end{align}\n",
    "$$"
   ]
  },
  {
   "cell_type": "code",
   "execution_count": 29,
   "id": "c2f3bedd-331a-470e-82d4-dd011681a4eb",
   "metadata": {},
   "outputs": [
    {
     "name": "stdout",
     "output_type": "stream",
     "text": [
      "Solution exists\n"
     ]
    }
   ],
   "source": [
    "import numpy as np\n",
    "\n",
    "M = np.array([[1, 1, 2, 1],\n",
    "              [1, -1, -1, 1],\n",
    "              [0, 1, 1, 0],\n",
    "              [1, 1, 0, 1]])\n",
    "\n",
    "if np.linalg.det(M) == 0:\n",
    "    print(\"Solution exists\")\n",
    "else:\n",
    "    print(\"Determinant of M:\", np.linalg.det(M))\n"
   ]
  },
  {
   "cell_type": "code",
   "execution_count": null,
   "id": "96b498a0-0db6-485e-a093-3f9806792a1c",
   "metadata": {},
   "outputs": [],
   "source": []
  }
 ],
 "metadata": {
  "kernelspec": {
   "display_name": "Python 3 (ipykernel)",
   "language": "python",
   "name": "python3"
  },
  "language_info": {
   "codemirror_mode": {
    "name": "ipython",
    "version": 3
   },
   "file_extension": ".py",
   "mimetype": "text/x-python",
   "name": "python",
   "nbconvert_exporter": "python",
   "pygments_lexer": "ipython3",
   "version": "3.11.4"
  }
 },
 "nbformat": 4,
 "nbformat_minor": 5
}
